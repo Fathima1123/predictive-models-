{
  "metadata": {
    "accelerator": "GPU",
    "colab": {
      "provenance": [],
      "name": "Gender Classification || CNN"
    },
    "gpuClass": "standard",
    "kernelspec": {
      "name": "python3",
      "display_name": "Python 3",
      "language": "python"
    },
    "language_info": {
      "name": "python",
      "version": "3.10.10",
      "mimetype": "text/x-python",
      "codemirror_mode": {
        "name": "ipython",
        "version": 3
      },
      "pygments_lexer": "ipython3",
      "nbconvert_exporter": "python",
      "file_extension": ".py"
    },
    "kaggle": {
      "accelerator": "gpu",
      "dataSources": [
        {
          "sourceId": 844929,
          "sourceType": "datasetVersion",
          "datasetId": 446365
        }
      ],
      "isInternetEnabled": true,
      "language": "python",
      "sourceType": "notebook",
      "isGpuEnabled": true
    }
  },
  "nbformat_minor": 0,
  "nbformat": 4,
  "cells": [
    {
      "source": [
        "\n",
        "\n",
        "import os\n",
        "import sys\n",
        "from tempfile import NamedTemporaryFile\n",
        "from urllib.request import urlopen\n",
        "from urllib.parse import unquote, urlparse\n",
        "from urllib.error import HTTPError\n",
        "from zipfile import ZipFile\n",
        "import tarfile\n",
        "import shutil\n",
        "\n",
        "CHUNK_SIZE = 40960\n",
        "DATA_SOURCE_MAPPING = 'gender-classification-dataset:https%3A%2F%2Fstorage.googleapis.com%2Fkaggle-data-sets%2F446365%2F844929%2Fbundle%2Farchive.zip%3FX-Goog-Algorithm%3DGOOG4-RSA-SHA256%26X-Goog-Credential%3Dgcp-kaggle-com%2540kaggle-161607.iam.gserviceaccount.com%252F20240625%252Fauto%252Fstorage%252Fgoog4_request%26X-Goog-Date%3D20240625T083903Z%26X-Goog-Expires%3D259200%26X-Goog-SignedHeaders%3Dhost%26X-Goog-Signature%3D4db8723ddcf03d491172f0364a474c1c59c4f57f435e3c784a6a118056dad954f35820dc80db18440ec467445f8bf5371bbf74ae1aa0aaa2484ff48d9ac9b774c33d3e117d2a4c575a787dfdde19031dccd886566f3b6febb239277ee0c847a043731485735368a240c1631b98f459982f8526397c8fe5a300a8509fadfc5591b972fa1e2a739d9451069db6878a95784d1510f302efbe11fb6c38776835a68db1cf57b0b8b17a03ccdc7fd5026a73c56237adb2422375220b6591c53a07249eb76b19f19aa89707dd9020dde81c61534488d3f83f05c920b685c1851f573ade6a53e05e8a6c3286420c6df4f56ead9c608e6b4fae0d17b110209808dc7d1849'\n",
        "\n",
        "KAGGLE_INPUT_PATH='/kaggle/input'\n",
        "KAGGLE_WORKING_PATH='/kaggle/working'\n",
        "KAGGLE_SYMLINK='kaggle'\n",
        "\n",
        "!umount /kaggle/input/ 2> /dev/null\n",
        "shutil.rmtree('/kaggle/input', ignore_errors=True)\n",
        "os.makedirs(KAGGLE_INPUT_PATH, 0o777, exist_ok=True)\n",
        "os.makedirs(KAGGLE_WORKING_PATH, 0o777, exist_ok=True)\n",
        "\n",
        "try:\n",
        "  os.symlink(KAGGLE_INPUT_PATH, os.path.join(\"..\", 'input'), target_is_directory=True)\n",
        "except FileExistsError:\n",
        "  pass\n",
        "try:\n",
        "  os.symlink(KAGGLE_WORKING_PATH, os.path.join(\"..\", 'working'), target_is_directory=True)\n",
        "except FileExistsError:\n",
        "  pass\n",
        "\n",
        "for data_source_mapping in DATA_SOURCE_MAPPING.split(','):\n",
        "    directory, download_url_encoded = data_source_mapping.split(':')\n",
        "    download_url = unquote(download_url_encoded)\n",
        "    filename = urlparse(download_url).path\n",
        "    destination_path = os.path.join(KAGGLE_INPUT_PATH, directory)\n",
        "    try:\n",
        "        with urlopen(download_url) as fileres, NamedTemporaryFile() as tfile:\n",
        "            total_length = fileres.headers['content-length']\n",
        "            print(f'Downloading {directory}, {total_length} bytes compressed')\n",
        "            dl = 0\n",
        "            data = fileres.read(CHUNK_SIZE)\n",
        "            while len(data) > 0:\n",
        "                dl += len(data)\n",
        "                tfile.write(data)\n",
        "                done = int(50 * dl / int(total_length))\n",
        "                sys.stdout.write(f\"\\r[{'=' * done}{' ' * (50-done)}] {dl} bytes downloaded\")\n",
        "                sys.stdout.flush()\n",
        "                data = fileres.read(CHUNK_SIZE)\n",
        "            if filename.endswith('.zip'):\n",
        "              with ZipFile(tfile) as zfile:\n",
        "                zfile.extractall(destination_path)\n",
        "            else:\n",
        "              with tarfile.open(tfile.name) as tarfile:\n",
        "                tarfile.extractall(destination_path)\n",
        "            print(f'\\nDownloaded and uncompressed: {directory}')\n",
        "    except HTTPError as e:\n",
        "        print(f'Failed to load (likely expired) {download_url} to path {destination_path}')\n",
        "        continue\n",
        "    except OSError as e:\n",
        "        print(f'Failed to load {download_url} to path {destination_path}')\n",
        "        continue\n",
        "\n",
        "print('Data source import complete.')\n"
      ],
      "metadata": {
        "id": "Acj7U1ofjHNh",
        "outputId": "faf2f594-cb65-484a-d656-e0eb7f3f4b47",
        "colab": {
          "base_uri": "https://localhost:8080/"
        }
      },
      "cell_type": "code",
      "outputs": [
        {
          "output_type": "stream",
          "name": "stdout",
          "text": [
            "Downloading gender-classification-dataset, 282512091 bytes compressed\n",
            "[==================================================] 282512091 bytes downloaded\n",
            "Downloaded and uncompressed: gender-classification-dataset\n",
            "Data source import complete.\n"
          ]
        }
      ],
      "execution_count": 1
    },
    {
      "cell_type": "code",
      "source": [
        "import numpy as np\n",
        "import pandas as pd\n",
        "import os\n",
        "import tensorflow as tf\n",
        "from tensorflow.keras.preprocessing.image import ImageDataGenerator, load_img, img_to_array\n",
        "from tensorflow.keras.models import Sequential, Model\n",
        "from tensorflow.keras.layers import Conv2D, MaxPooling2D, Dense, GlobalAveragePooling2D, Dropout, Flatten\n",
        "from tensorflow.keras.applications import VGG16\n",
        "import matplotlib.pyplot as plt\n",
        "import seaborn as sns"
      ],
      "metadata": {
        "id": "L0nVw6BguORP",
        "execution": {
          "iopub.status.busy": "2023-05-07T02:02:02.185521Z",
          "iopub.execute_input": "2023-05-07T02:02:02.185874Z",
          "iopub.status.idle": "2023-05-07T02:02:02.192652Z",
          "shell.execute_reply.started": "2023-05-07T02:02:02.185848Z",
          "shell.execute_reply": "2023-05-07T02:02:02.191561Z"
        },
        "trusted": true
      },
      "execution_count": 2,
      "outputs": []
    },
    {
      "cell_type": "code",
      "source": [
        "train_ds=\"/kaggle/input/gender-classification-dataset/Training\"\n",
        "test_ds=\"/kaggle/input/gender-classification-dataset/Validation\""
      ],
      "metadata": {
        "id": "BWB_-KKKuQiG",
        "execution": {
          "iopub.status.busy": "2023-05-07T02:02:02.194591Z",
          "iopub.execute_input": "2023-05-07T02:02:02.195542Z",
          "iopub.status.idle": "2023-05-07T02:02:02.20529Z",
          "shell.execute_reply.started": "2023-05-07T02:02:02.195506Z",
          "shell.execute_reply": "2023-05-07T02:02:02.204416Z"
        },
        "trusted": true
      },
      "execution_count": 3,
      "outputs": []
    },
    {
      "cell_type": "markdown",
      "source": [
        "# Data preprocessing\n",
        "****"
      ],
      "metadata": {
        "id": "B7NUfGzsjHNw"
      }
    },
    {
      "cell_type": "code",
      "source": [
        "root_path = \"/kaggle/input/gender-classification-dataset/Training/\"\n",
        "class_names = sorted(os.listdir(root_path))\n",
        "n_classes = len(class_names)\n",
        "class_dis = [len(os.listdir(root_path + name)) for name in class_names]\n",
        "print(f\"Total Number of Classes : {n_classes} \\nClass Names : {class_names}\")\n",
        "print(f\"female : {class_dis[0]} \\nmale : {class_dis[1]}\")"
      ],
      "metadata": {
        "execution": {
          "iopub.status.busy": "2023-05-07T02:02:02.207052Z",
          "iopub.execute_input": "2023-05-07T02:02:02.208353Z",
          "iopub.status.idle": "2023-05-07T02:02:07.397557Z",
          "shell.execute_reply.started": "2023-05-07T02:02:02.208319Z",
          "shell.execute_reply": "2023-05-07T02:02:07.129119Z"
        },
        "trusted": true,
        "id": "5F010xPkjHNz",
        "outputId": "e1db65e0-ce96-4a87-a3ef-906b825c987f",
        "colab": {
          "base_uri": "https://localhost:8080/"
        }
      },
      "execution_count": 4,
      "outputs": [
        {
          "output_type": "stream",
          "name": "stdout",
          "text": [
            "Total Number of Classes : 2 \n",
            "Class Names : ['female', 'male']\n",
            "female : 23243 \n",
            "male : 23766\n"
          ]
        }
      ]
    },
    {
      "cell_type": "code",
      "source": [
        "os.listdir('/kaggle/input/gender-classification-dataset/Training')"
      ],
      "metadata": {
        "id": "dSjl9RwUuQas",
        "outputId": "8b9fec4b-4853-48bc-e590-39c039ac2670",
        "execution": {
          "iopub.status.busy": "2023-05-07T02:02:07.39969Z",
          "iopub.execute_input": "2023-05-07T02:02:07.400092Z",
          "iopub.status.idle": "2023-05-07T02:02:07.561016Z",
          "shell.execute_reply.started": "2023-05-07T02:02:07.400054Z",
          "shell.execute_reply": "2023-05-07T02:02:07.544687Z"
        },
        "trusted": true,
        "colab": {
          "base_uri": "https://localhost:8080/"
        }
      },
      "execution_count": 5,
      "outputs": [
        {
          "output_type": "execute_result",
          "data": {
            "text/plain": [
              "['female', 'male']"
            ]
          },
          "metadata": {},
          "execution_count": 5
        }
      ]
    },
    {
      "cell_type": "code",
      "source": [
        "import plotly.express as px"
      ],
      "metadata": {
        "execution": {
          "iopub.status.busy": "2023-05-07T02:02:07.563102Z",
          "iopub.execute_input": "2023-05-07T02:02:07.56337Z",
          "iopub.status.idle": "2023-05-07T02:02:07.60361Z",
          "shell.execute_reply.started": "2023-05-07T02:02:07.563346Z",
          "shell.execute_reply": "2023-05-07T02:02:07.582046Z"
        },
        "trusted": true,
        "id": "dwviZlCAjHN1"
      },
      "execution_count": 6,
      "outputs": []
    },
    {
      "cell_type": "code",
      "source": [
        "fig = px.pie(names=class_names, values=class_dis,\n",
        "             title=\"Training Class Distribution\", hole=0.4)\n",
        "fig.update_layout({'title':{'x':0.48}})\n",
        "fig.show()"
      ],
      "metadata": {
        "execution": {
          "iopub.status.busy": "2023-05-07T02:02:07.625369Z",
          "iopub.execute_input": "2023-05-07T02:02:07.625669Z",
          "iopub.status.idle": "2023-05-07T02:02:07.791407Z",
          "shell.execute_reply.started": "2023-05-07T02:02:07.625644Z",
          "shell.execute_reply": "2023-05-07T02:02:07.775007Z"
        },
        "trusted": true,
        "id": "cEMf9vMzjHN3",
        "outputId": "fd34c193-f4d7-4e13-baa5-8c12a2fffee0",
        "colab": {
          "base_uri": "https://localhost:8080/",
          "height": 542
        }
      },
      "execution_count": 7,
      "outputs": [
        {
          "output_type": "display_data",
          "data": {
            "text/html": [
              "<html>\n",
              "<head><meta charset=\"utf-8\" /></head>\n",
              "<body>\n",
              "    <div>            <script src=\"https://cdnjs.cloudflare.com/ajax/libs/mathjax/2.7.5/MathJax.js?config=TeX-AMS-MML_SVG\"></script><script type=\"text/javascript\">if (window.MathJax && window.MathJax.Hub && window.MathJax.Hub.Config) {window.MathJax.Hub.Config({SVG: {font: \"STIX-Web\"}});}</script>                <script type=\"text/javascript\">window.PlotlyConfig = {MathJaxConfig: 'local'};</script>\n",
              "        <script charset=\"utf-8\" src=\"https://cdn.plot.ly/plotly-2.24.1.min.js\"></script>                <div id=\"82b62d6b-79e1-44e9-ae8e-91474472dde3\" class=\"plotly-graph-div\" style=\"height:525px; width:100%;\"></div>            <script type=\"text/javascript\">                                    window.PLOTLYENV=window.PLOTLYENV || {};                                    if (document.getElementById(\"82b62d6b-79e1-44e9-ae8e-91474472dde3\")) {                    Plotly.newPlot(                        \"82b62d6b-79e1-44e9-ae8e-91474472dde3\",                        [{\"domain\":{\"x\":[0.0,1.0],\"y\":[0.0,1.0]},\"hole\":0.4,\"hovertemplate\":\"label=%{label}\\u003cbr\\u003evalue=%{value}\\u003cextra\\u003e\\u003c\\u002fextra\\u003e\",\"labels\":[\"female\",\"male\"],\"legendgroup\":\"\",\"name\":\"\",\"showlegend\":true,\"values\":[23243,23766],\"type\":\"pie\"}],                        {\"template\":{\"data\":{\"histogram2dcontour\":[{\"type\":\"histogram2dcontour\",\"colorbar\":{\"outlinewidth\":0,\"ticks\":\"\"},\"colorscale\":[[0.0,\"#0d0887\"],[0.1111111111111111,\"#46039f\"],[0.2222222222222222,\"#7201a8\"],[0.3333333333333333,\"#9c179e\"],[0.4444444444444444,\"#bd3786\"],[0.5555555555555556,\"#d8576b\"],[0.6666666666666666,\"#ed7953\"],[0.7777777777777778,\"#fb9f3a\"],[0.8888888888888888,\"#fdca26\"],[1.0,\"#f0f921\"]]}],\"choropleth\":[{\"type\":\"choropleth\",\"colorbar\":{\"outlinewidth\":0,\"ticks\":\"\"}}],\"histogram2d\":[{\"type\":\"histogram2d\",\"colorbar\":{\"outlinewidth\":0,\"ticks\":\"\"},\"colorscale\":[[0.0,\"#0d0887\"],[0.1111111111111111,\"#46039f\"],[0.2222222222222222,\"#7201a8\"],[0.3333333333333333,\"#9c179e\"],[0.4444444444444444,\"#bd3786\"],[0.5555555555555556,\"#d8576b\"],[0.6666666666666666,\"#ed7953\"],[0.7777777777777778,\"#fb9f3a\"],[0.8888888888888888,\"#fdca26\"],[1.0,\"#f0f921\"]]}],\"heatmap\":[{\"type\":\"heatmap\",\"colorbar\":{\"outlinewidth\":0,\"ticks\":\"\"},\"colorscale\":[[0.0,\"#0d0887\"],[0.1111111111111111,\"#46039f\"],[0.2222222222222222,\"#7201a8\"],[0.3333333333333333,\"#9c179e\"],[0.4444444444444444,\"#bd3786\"],[0.5555555555555556,\"#d8576b\"],[0.6666666666666666,\"#ed7953\"],[0.7777777777777778,\"#fb9f3a\"],[0.8888888888888888,\"#fdca26\"],[1.0,\"#f0f921\"]]}],\"heatmapgl\":[{\"type\":\"heatmapgl\",\"colorbar\":{\"outlinewidth\":0,\"ticks\":\"\"},\"colorscale\":[[0.0,\"#0d0887\"],[0.1111111111111111,\"#46039f\"],[0.2222222222222222,\"#7201a8\"],[0.3333333333333333,\"#9c179e\"],[0.4444444444444444,\"#bd3786\"],[0.5555555555555556,\"#d8576b\"],[0.6666666666666666,\"#ed7953\"],[0.7777777777777778,\"#fb9f3a\"],[0.8888888888888888,\"#fdca26\"],[1.0,\"#f0f921\"]]}],\"contourcarpet\":[{\"type\":\"contourcarpet\",\"colorbar\":{\"outlinewidth\":0,\"ticks\":\"\"}}],\"contour\":[{\"type\":\"contour\",\"colorbar\":{\"outlinewidth\":0,\"ticks\":\"\"},\"colorscale\":[[0.0,\"#0d0887\"],[0.1111111111111111,\"#46039f\"],[0.2222222222222222,\"#7201a8\"],[0.3333333333333333,\"#9c179e\"],[0.4444444444444444,\"#bd3786\"],[0.5555555555555556,\"#d8576b\"],[0.6666666666666666,\"#ed7953\"],[0.7777777777777778,\"#fb9f3a\"],[0.8888888888888888,\"#fdca26\"],[1.0,\"#f0f921\"]]}],\"surface\":[{\"type\":\"surface\",\"colorbar\":{\"outlinewidth\":0,\"ticks\":\"\"},\"colorscale\":[[0.0,\"#0d0887\"],[0.1111111111111111,\"#46039f\"],[0.2222222222222222,\"#7201a8\"],[0.3333333333333333,\"#9c179e\"],[0.4444444444444444,\"#bd3786\"],[0.5555555555555556,\"#d8576b\"],[0.6666666666666666,\"#ed7953\"],[0.7777777777777778,\"#fb9f3a\"],[0.8888888888888888,\"#fdca26\"],[1.0,\"#f0f921\"]]}],\"mesh3d\":[{\"type\":\"mesh3d\",\"colorbar\":{\"outlinewidth\":0,\"ticks\":\"\"}}],\"scatter\":[{\"fillpattern\":{\"fillmode\":\"overlay\",\"size\":10,\"solidity\":0.2},\"type\":\"scatter\"}],\"parcoords\":[{\"type\":\"parcoords\",\"line\":{\"colorbar\":{\"outlinewidth\":0,\"ticks\":\"\"}}}],\"scatterpolargl\":[{\"type\":\"scatterpolargl\",\"marker\":{\"colorbar\":{\"outlinewidth\":0,\"ticks\":\"\"}}}],\"bar\":[{\"error_x\":{\"color\":\"#2a3f5f\"},\"error_y\":{\"color\":\"#2a3f5f\"},\"marker\":{\"line\":{\"color\":\"#E5ECF6\",\"width\":0.5},\"pattern\":{\"fillmode\":\"overlay\",\"size\":10,\"solidity\":0.2}},\"type\":\"bar\"}],\"scattergeo\":[{\"type\":\"scattergeo\",\"marker\":{\"colorbar\":{\"outlinewidth\":0,\"ticks\":\"\"}}}],\"scatterpolar\":[{\"type\":\"scatterpolar\",\"marker\":{\"colorbar\":{\"outlinewidth\":0,\"ticks\":\"\"}}}],\"histogram\":[{\"marker\":{\"pattern\":{\"fillmode\":\"overlay\",\"size\":10,\"solidity\":0.2}},\"type\":\"histogram\"}],\"scattergl\":[{\"type\":\"scattergl\",\"marker\":{\"colorbar\":{\"outlinewidth\":0,\"ticks\":\"\"}}}],\"scatter3d\":[{\"type\":\"scatter3d\",\"line\":{\"colorbar\":{\"outlinewidth\":0,\"ticks\":\"\"}},\"marker\":{\"colorbar\":{\"outlinewidth\":0,\"ticks\":\"\"}}}],\"scattermapbox\":[{\"type\":\"scattermapbox\",\"marker\":{\"colorbar\":{\"outlinewidth\":0,\"ticks\":\"\"}}}],\"scatterternary\":[{\"type\":\"scatterternary\",\"marker\":{\"colorbar\":{\"outlinewidth\":0,\"ticks\":\"\"}}}],\"scattercarpet\":[{\"type\":\"scattercarpet\",\"marker\":{\"colorbar\":{\"outlinewidth\":0,\"ticks\":\"\"}}}],\"carpet\":[{\"aaxis\":{\"endlinecolor\":\"#2a3f5f\",\"gridcolor\":\"white\",\"linecolor\":\"white\",\"minorgridcolor\":\"white\",\"startlinecolor\":\"#2a3f5f\"},\"baxis\":{\"endlinecolor\":\"#2a3f5f\",\"gridcolor\":\"white\",\"linecolor\":\"white\",\"minorgridcolor\":\"white\",\"startlinecolor\":\"#2a3f5f\"},\"type\":\"carpet\"}],\"table\":[{\"cells\":{\"fill\":{\"color\":\"#EBF0F8\"},\"line\":{\"color\":\"white\"}},\"header\":{\"fill\":{\"color\":\"#C8D4E3\"},\"line\":{\"color\":\"white\"}},\"type\":\"table\"}],\"barpolar\":[{\"marker\":{\"line\":{\"color\":\"#E5ECF6\",\"width\":0.5},\"pattern\":{\"fillmode\":\"overlay\",\"size\":10,\"solidity\":0.2}},\"type\":\"barpolar\"}],\"pie\":[{\"automargin\":true,\"type\":\"pie\"}]},\"layout\":{\"autotypenumbers\":\"strict\",\"colorway\":[\"#636efa\",\"#EF553B\",\"#00cc96\",\"#ab63fa\",\"#FFA15A\",\"#19d3f3\",\"#FF6692\",\"#B6E880\",\"#FF97FF\",\"#FECB52\"],\"font\":{\"color\":\"#2a3f5f\"},\"hovermode\":\"closest\",\"hoverlabel\":{\"align\":\"left\"},\"paper_bgcolor\":\"white\",\"plot_bgcolor\":\"#E5ECF6\",\"polar\":{\"bgcolor\":\"#E5ECF6\",\"angularaxis\":{\"gridcolor\":\"white\",\"linecolor\":\"white\",\"ticks\":\"\"},\"radialaxis\":{\"gridcolor\":\"white\",\"linecolor\":\"white\",\"ticks\":\"\"}},\"ternary\":{\"bgcolor\":\"#E5ECF6\",\"aaxis\":{\"gridcolor\":\"white\",\"linecolor\":\"white\",\"ticks\":\"\"},\"baxis\":{\"gridcolor\":\"white\",\"linecolor\":\"white\",\"ticks\":\"\"},\"caxis\":{\"gridcolor\":\"white\",\"linecolor\":\"white\",\"ticks\":\"\"}},\"coloraxis\":{\"colorbar\":{\"outlinewidth\":0,\"ticks\":\"\"}},\"colorscale\":{\"sequential\":[[0.0,\"#0d0887\"],[0.1111111111111111,\"#46039f\"],[0.2222222222222222,\"#7201a8\"],[0.3333333333333333,\"#9c179e\"],[0.4444444444444444,\"#bd3786\"],[0.5555555555555556,\"#d8576b\"],[0.6666666666666666,\"#ed7953\"],[0.7777777777777778,\"#fb9f3a\"],[0.8888888888888888,\"#fdca26\"],[1.0,\"#f0f921\"]],\"sequentialminus\":[[0.0,\"#0d0887\"],[0.1111111111111111,\"#46039f\"],[0.2222222222222222,\"#7201a8\"],[0.3333333333333333,\"#9c179e\"],[0.4444444444444444,\"#bd3786\"],[0.5555555555555556,\"#d8576b\"],[0.6666666666666666,\"#ed7953\"],[0.7777777777777778,\"#fb9f3a\"],[0.8888888888888888,\"#fdca26\"],[1.0,\"#f0f921\"]],\"diverging\":[[0,\"#8e0152\"],[0.1,\"#c51b7d\"],[0.2,\"#de77ae\"],[0.3,\"#f1b6da\"],[0.4,\"#fde0ef\"],[0.5,\"#f7f7f7\"],[0.6,\"#e6f5d0\"],[0.7,\"#b8e186\"],[0.8,\"#7fbc41\"],[0.9,\"#4d9221\"],[1,\"#276419\"]]},\"xaxis\":{\"gridcolor\":\"white\",\"linecolor\":\"white\",\"ticks\":\"\",\"title\":{\"standoff\":15},\"zerolinecolor\":\"white\",\"automargin\":true,\"zerolinewidth\":2},\"yaxis\":{\"gridcolor\":\"white\",\"linecolor\":\"white\",\"ticks\":\"\",\"title\":{\"standoff\":15},\"zerolinecolor\":\"white\",\"automargin\":true,\"zerolinewidth\":2},\"scene\":{\"xaxis\":{\"backgroundcolor\":\"#E5ECF6\",\"gridcolor\":\"white\",\"linecolor\":\"white\",\"showbackground\":true,\"ticks\":\"\",\"zerolinecolor\":\"white\",\"gridwidth\":2},\"yaxis\":{\"backgroundcolor\":\"#E5ECF6\",\"gridcolor\":\"white\",\"linecolor\":\"white\",\"showbackground\":true,\"ticks\":\"\",\"zerolinecolor\":\"white\",\"gridwidth\":2},\"zaxis\":{\"backgroundcolor\":\"#E5ECF6\",\"gridcolor\":\"white\",\"linecolor\":\"white\",\"showbackground\":true,\"ticks\":\"\",\"zerolinecolor\":\"white\",\"gridwidth\":2}},\"shapedefaults\":{\"line\":{\"color\":\"#2a3f5f\"}},\"annotationdefaults\":{\"arrowcolor\":\"#2a3f5f\",\"arrowhead\":0,\"arrowwidth\":1},\"geo\":{\"bgcolor\":\"white\",\"landcolor\":\"#E5ECF6\",\"subunitcolor\":\"white\",\"showland\":true,\"showlakes\":true,\"lakecolor\":\"white\"},\"title\":{\"x\":0.05},\"mapbox\":{\"style\":\"light\"}}},\"legend\":{\"tracegroupgap\":0},\"title\":{\"text\":\"Training Class Distribution\",\"x\":0.48}},                        {\"responsive\": true}                    ).then(function(){\n",
              "                            \n",
              "var gd = document.getElementById('82b62d6b-79e1-44e9-ae8e-91474472dde3');\n",
              "var x = new MutationObserver(function (mutations, observer) {{\n",
              "        var display = window.getComputedStyle(gd).display;\n",
              "        if (!display || display === 'none') {{\n",
              "            console.log([gd, 'removed!']);\n",
              "            Plotly.purge(gd);\n",
              "            observer.disconnect();\n",
              "        }}\n",
              "}});\n",
              "\n",
              "// Listen for the removal of the full notebook cells\n",
              "var notebookContainer = gd.closest('#notebook-container');\n",
              "if (notebookContainer) {{\n",
              "    x.observe(notebookContainer, {childList: true});\n",
              "}}\n",
              "\n",
              "// Listen for the clearing of the current output cell\n",
              "var outputEl = gd.closest('.output');\n",
              "if (outputEl) {{\n",
              "    x.observe(outputEl, {childList: true});\n",
              "}}\n",
              "\n",
              "                        })                };                            </script>        </div>\n",
              "</body>\n",
              "</html>"
            ]
          },
          "metadata": {}
        }
      ]
    },
    {
      "cell_type": "code",
      "source": [
        "valid_path = \"/kaggle/input/gender-classification-dataset/Validation/\"\n",
        "valid_dis = [len(os.listdir(valid_path + name)) for name in class_names]\n",
        "fig = px.pie(names=class_names, values=valid_dis,\n",
        "             title=\"test Class Distribution\", hole=0.4)\n",
        "fig.update_layout({'title':{'x':0.48}})\n",
        "fig.show()"
      ],
      "metadata": {
        "execution": {
          "iopub.status.busy": "2023-05-07T02:02:07.804894Z",
          "iopub.execute_input": "2023-05-07T02:02:07.805214Z",
          "iopub.status.idle": "2023-05-07T02:02:07.865788Z",
          "shell.execute_reply.started": "2023-05-07T02:02:07.805179Z",
          "shell.execute_reply": "2023-05-07T02:02:07.864535Z"
        },
        "trusted": true,
        "id": "I5G4UkPRjHN5",
        "outputId": "66a2903b-186d-4d13-e9a9-c741d35bef8c",
        "colab": {
          "base_uri": "https://localhost:8080/",
          "height": 542
        }
      },
      "execution_count": 8,
      "outputs": [
        {
          "output_type": "display_data",
          "data": {
            "text/html": [
              "<html>\n",
              "<head><meta charset=\"utf-8\" /></head>\n",
              "<body>\n",
              "    <div>            <script src=\"https://cdnjs.cloudflare.com/ajax/libs/mathjax/2.7.5/MathJax.js?config=TeX-AMS-MML_SVG\"></script><script type=\"text/javascript\">if (window.MathJax && window.MathJax.Hub && window.MathJax.Hub.Config) {window.MathJax.Hub.Config({SVG: {font: \"STIX-Web\"}});}</script>                <script type=\"text/javascript\">window.PlotlyConfig = {MathJaxConfig: 'local'};</script>\n",
              "        <script charset=\"utf-8\" src=\"https://cdn.plot.ly/plotly-2.24.1.min.js\"></script>                <div id=\"ac70b259-1944-4332-acb2-758a5d41f777\" class=\"plotly-graph-div\" style=\"height:525px; width:100%;\"></div>            <script type=\"text/javascript\">                                    window.PLOTLYENV=window.PLOTLYENV || {};                                    if (document.getElementById(\"ac70b259-1944-4332-acb2-758a5d41f777\")) {                    Plotly.newPlot(                        \"ac70b259-1944-4332-acb2-758a5d41f777\",                        [{\"domain\":{\"x\":[0.0,1.0],\"y\":[0.0,1.0]},\"hole\":0.4,\"hovertemplate\":\"label=%{label}\\u003cbr\\u003evalue=%{value}\\u003cextra\\u003e\\u003c\\u002fextra\\u003e\",\"labels\":[\"female\",\"male\"],\"legendgroup\":\"\",\"name\":\"\",\"showlegend\":true,\"values\":[5841,5808],\"type\":\"pie\"}],                        {\"template\":{\"data\":{\"histogram2dcontour\":[{\"type\":\"histogram2dcontour\",\"colorbar\":{\"outlinewidth\":0,\"ticks\":\"\"},\"colorscale\":[[0.0,\"#0d0887\"],[0.1111111111111111,\"#46039f\"],[0.2222222222222222,\"#7201a8\"],[0.3333333333333333,\"#9c179e\"],[0.4444444444444444,\"#bd3786\"],[0.5555555555555556,\"#d8576b\"],[0.6666666666666666,\"#ed7953\"],[0.7777777777777778,\"#fb9f3a\"],[0.8888888888888888,\"#fdca26\"],[1.0,\"#f0f921\"]]}],\"choropleth\":[{\"type\":\"choropleth\",\"colorbar\":{\"outlinewidth\":0,\"ticks\":\"\"}}],\"histogram2d\":[{\"type\":\"histogram2d\",\"colorbar\":{\"outlinewidth\":0,\"ticks\":\"\"},\"colorscale\":[[0.0,\"#0d0887\"],[0.1111111111111111,\"#46039f\"],[0.2222222222222222,\"#7201a8\"],[0.3333333333333333,\"#9c179e\"],[0.4444444444444444,\"#bd3786\"],[0.5555555555555556,\"#d8576b\"],[0.6666666666666666,\"#ed7953\"],[0.7777777777777778,\"#fb9f3a\"],[0.8888888888888888,\"#fdca26\"],[1.0,\"#f0f921\"]]}],\"heatmap\":[{\"type\":\"heatmap\",\"colorbar\":{\"outlinewidth\":0,\"ticks\":\"\"},\"colorscale\":[[0.0,\"#0d0887\"],[0.1111111111111111,\"#46039f\"],[0.2222222222222222,\"#7201a8\"],[0.3333333333333333,\"#9c179e\"],[0.4444444444444444,\"#bd3786\"],[0.5555555555555556,\"#d8576b\"],[0.6666666666666666,\"#ed7953\"],[0.7777777777777778,\"#fb9f3a\"],[0.8888888888888888,\"#fdca26\"],[1.0,\"#f0f921\"]]}],\"heatmapgl\":[{\"type\":\"heatmapgl\",\"colorbar\":{\"outlinewidth\":0,\"ticks\":\"\"},\"colorscale\":[[0.0,\"#0d0887\"],[0.1111111111111111,\"#46039f\"],[0.2222222222222222,\"#7201a8\"],[0.3333333333333333,\"#9c179e\"],[0.4444444444444444,\"#bd3786\"],[0.5555555555555556,\"#d8576b\"],[0.6666666666666666,\"#ed7953\"],[0.7777777777777778,\"#fb9f3a\"],[0.8888888888888888,\"#fdca26\"],[1.0,\"#f0f921\"]]}],\"contourcarpet\":[{\"type\":\"contourcarpet\",\"colorbar\":{\"outlinewidth\":0,\"ticks\":\"\"}}],\"contour\":[{\"type\":\"contour\",\"colorbar\":{\"outlinewidth\":0,\"ticks\":\"\"},\"colorscale\":[[0.0,\"#0d0887\"],[0.1111111111111111,\"#46039f\"],[0.2222222222222222,\"#7201a8\"],[0.3333333333333333,\"#9c179e\"],[0.4444444444444444,\"#bd3786\"],[0.5555555555555556,\"#d8576b\"],[0.6666666666666666,\"#ed7953\"],[0.7777777777777778,\"#fb9f3a\"],[0.8888888888888888,\"#fdca26\"],[1.0,\"#f0f921\"]]}],\"surface\":[{\"type\":\"surface\",\"colorbar\":{\"outlinewidth\":0,\"ticks\":\"\"},\"colorscale\":[[0.0,\"#0d0887\"],[0.1111111111111111,\"#46039f\"],[0.2222222222222222,\"#7201a8\"],[0.3333333333333333,\"#9c179e\"],[0.4444444444444444,\"#bd3786\"],[0.5555555555555556,\"#d8576b\"],[0.6666666666666666,\"#ed7953\"],[0.7777777777777778,\"#fb9f3a\"],[0.8888888888888888,\"#fdca26\"],[1.0,\"#f0f921\"]]}],\"mesh3d\":[{\"type\":\"mesh3d\",\"colorbar\":{\"outlinewidth\":0,\"ticks\":\"\"}}],\"scatter\":[{\"fillpattern\":{\"fillmode\":\"overlay\",\"size\":10,\"solidity\":0.2},\"type\":\"scatter\"}],\"parcoords\":[{\"type\":\"parcoords\",\"line\":{\"colorbar\":{\"outlinewidth\":0,\"ticks\":\"\"}}}],\"scatterpolargl\":[{\"type\":\"scatterpolargl\",\"marker\":{\"colorbar\":{\"outlinewidth\":0,\"ticks\":\"\"}}}],\"bar\":[{\"error_x\":{\"color\":\"#2a3f5f\"},\"error_y\":{\"color\":\"#2a3f5f\"},\"marker\":{\"line\":{\"color\":\"#E5ECF6\",\"width\":0.5},\"pattern\":{\"fillmode\":\"overlay\",\"size\":10,\"solidity\":0.2}},\"type\":\"bar\"}],\"scattergeo\":[{\"type\":\"scattergeo\",\"marker\":{\"colorbar\":{\"outlinewidth\":0,\"ticks\":\"\"}}}],\"scatterpolar\":[{\"type\":\"scatterpolar\",\"marker\":{\"colorbar\":{\"outlinewidth\":0,\"ticks\":\"\"}}}],\"histogram\":[{\"marker\":{\"pattern\":{\"fillmode\":\"overlay\",\"size\":10,\"solidity\":0.2}},\"type\":\"histogram\"}],\"scattergl\":[{\"type\":\"scattergl\",\"marker\":{\"colorbar\":{\"outlinewidth\":0,\"ticks\":\"\"}}}],\"scatter3d\":[{\"type\":\"scatter3d\",\"line\":{\"colorbar\":{\"outlinewidth\":0,\"ticks\":\"\"}},\"marker\":{\"colorbar\":{\"outlinewidth\":0,\"ticks\":\"\"}}}],\"scattermapbox\":[{\"type\":\"scattermapbox\",\"marker\":{\"colorbar\":{\"outlinewidth\":0,\"ticks\":\"\"}}}],\"scatterternary\":[{\"type\":\"scatterternary\",\"marker\":{\"colorbar\":{\"outlinewidth\":0,\"ticks\":\"\"}}}],\"scattercarpet\":[{\"type\":\"scattercarpet\",\"marker\":{\"colorbar\":{\"outlinewidth\":0,\"ticks\":\"\"}}}],\"carpet\":[{\"aaxis\":{\"endlinecolor\":\"#2a3f5f\",\"gridcolor\":\"white\",\"linecolor\":\"white\",\"minorgridcolor\":\"white\",\"startlinecolor\":\"#2a3f5f\"},\"baxis\":{\"endlinecolor\":\"#2a3f5f\",\"gridcolor\":\"white\",\"linecolor\":\"white\",\"minorgridcolor\":\"white\",\"startlinecolor\":\"#2a3f5f\"},\"type\":\"carpet\"}],\"table\":[{\"cells\":{\"fill\":{\"color\":\"#EBF0F8\"},\"line\":{\"color\":\"white\"}},\"header\":{\"fill\":{\"color\":\"#C8D4E3\"},\"line\":{\"color\":\"white\"}},\"type\":\"table\"}],\"barpolar\":[{\"marker\":{\"line\":{\"color\":\"#E5ECF6\",\"width\":0.5},\"pattern\":{\"fillmode\":\"overlay\",\"size\":10,\"solidity\":0.2}},\"type\":\"barpolar\"}],\"pie\":[{\"automargin\":true,\"type\":\"pie\"}]},\"layout\":{\"autotypenumbers\":\"strict\",\"colorway\":[\"#636efa\",\"#EF553B\",\"#00cc96\",\"#ab63fa\",\"#FFA15A\",\"#19d3f3\",\"#FF6692\",\"#B6E880\",\"#FF97FF\",\"#FECB52\"],\"font\":{\"color\":\"#2a3f5f\"},\"hovermode\":\"closest\",\"hoverlabel\":{\"align\":\"left\"},\"paper_bgcolor\":\"white\",\"plot_bgcolor\":\"#E5ECF6\",\"polar\":{\"bgcolor\":\"#E5ECF6\",\"angularaxis\":{\"gridcolor\":\"white\",\"linecolor\":\"white\",\"ticks\":\"\"},\"radialaxis\":{\"gridcolor\":\"white\",\"linecolor\":\"white\",\"ticks\":\"\"}},\"ternary\":{\"bgcolor\":\"#E5ECF6\",\"aaxis\":{\"gridcolor\":\"white\",\"linecolor\":\"white\",\"ticks\":\"\"},\"baxis\":{\"gridcolor\":\"white\",\"linecolor\":\"white\",\"ticks\":\"\"},\"caxis\":{\"gridcolor\":\"white\",\"linecolor\":\"white\",\"ticks\":\"\"}},\"coloraxis\":{\"colorbar\":{\"outlinewidth\":0,\"ticks\":\"\"}},\"colorscale\":{\"sequential\":[[0.0,\"#0d0887\"],[0.1111111111111111,\"#46039f\"],[0.2222222222222222,\"#7201a8\"],[0.3333333333333333,\"#9c179e\"],[0.4444444444444444,\"#bd3786\"],[0.5555555555555556,\"#d8576b\"],[0.6666666666666666,\"#ed7953\"],[0.7777777777777778,\"#fb9f3a\"],[0.8888888888888888,\"#fdca26\"],[1.0,\"#f0f921\"]],\"sequentialminus\":[[0.0,\"#0d0887\"],[0.1111111111111111,\"#46039f\"],[0.2222222222222222,\"#7201a8\"],[0.3333333333333333,\"#9c179e\"],[0.4444444444444444,\"#bd3786\"],[0.5555555555555556,\"#d8576b\"],[0.6666666666666666,\"#ed7953\"],[0.7777777777777778,\"#fb9f3a\"],[0.8888888888888888,\"#fdca26\"],[1.0,\"#f0f921\"]],\"diverging\":[[0,\"#8e0152\"],[0.1,\"#c51b7d\"],[0.2,\"#de77ae\"],[0.3,\"#f1b6da\"],[0.4,\"#fde0ef\"],[0.5,\"#f7f7f7\"],[0.6,\"#e6f5d0\"],[0.7,\"#b8e186\"],[0.8,\"#7fbc41\"],[0.9,\"#4d9221\"],[1,\"#276419\"]]},\"xaxis\":{\"gridcolor\":\"white\",\"linecolor\":\"white\",\"ticks\":\"\",\"title\":{\"standoff\":15},\"zerolinecolor\":\"white\",\"automargin\":true,\"zerolinewidth\":2},\"yaxis\":{\"gridcolor\":\"white\",\"linecolor\":\"white\",\"ticks\":\"\",\"title\":{\"standoff\":15},\"zerolinecolor\":\"white\",\"automargin\":true,\"zerolinewidth\":2},\"scene\":{\"xaxis\":{\"backgroundcolor\":\"#E5ECF6\",\"gridcolor\":\"white\",\"linecolor\":\"white\",\"showbackground\":true,\"ticks\":\"\",\"zerolinecolor\":\"white\",\"gridwidth\":2},\"yaxis\":{\"backgroundcolor\":\"#E5ECF6\",\"gridcolor\":\"white\",\"linecolor\":\"white\",\"showbackground\":true,\"ticks\":\"\",\"zerolinecolor\":\"white\",\"gridwidth\":2},\"zaxis\":{\"backgroundcolor\":\"#E5ECF6\",\"gridcolor\":\"white\",\"linecolor\":\"white\",\"showbackground\":true,\"ticks\":\"\",\"zerolinecolor\":\"white\",\"gridwidth\":2}},\"shapedefaults\":{\"line\":{\"color\":\"#2a3f5f\"}},\"annotationdefaults\":{\"arrowcolor\":\"#2a3f5f\",\"arrowhead\":0,\"arrowwidth\":1},\"geo\":{\"bgcolor\":\"white\",\"landcolor\":\"#E5ECF6\",\"subunitcolor\":\"white\",\"showland\":true,\"showlakes\":true,\"lakecolor\":\"white\"},\"title\":{\"x\":0.05},\"mapbox\":{\"style\":\"light\"}}},\"legend\":{\"tracegroupgap\":0},\"title\":{\"text\":\"test Class Distribution\",\"x\":0.48}},                        {\"responsive\": true}                    ).then(function(){\n",
              "                            \n",
              "var gd = document.getElementById('ac70b259-1944-4332-acb2-758a5d41f777');\n",
              "var x = new MutationObserver(function (mutations, observer) {{\n",
              "        var display = window.getComputedStyle(gd).display;\n",
              "        if (!display || display === 'none') {{\n",
              "            console.log([gd, 'removed!']);\n",
              "            Plotly.purge(gd);\n",
              "            observer.disconnect();\n",
              "        }}\n",
              "}});\n",
              "\n",
              "// Listen for the removal of the full notebook cells\n",
              "var notebookContainer = gd.closest('#notebook-container');\n",
              "if (notebookContainer) {{\n",
              "    x.observe(notebookContainer, {childList: true});\n",
              "}}\n",
              "\n",
              "// Listen for the clearing of the current output cell\n",
              "var outputEl = gd.closest('.output');\n",
              "if (outputEl) {{\n",
              "    x.observe(outputEl, {childList: true});\n",
              "}}\n",
              "\n",
              "                        })                };                            </script>        </div>\n",
              "</body>\n",
              "</html>"
            ]
          },
          "metadata": {}
        }
      ]
    },
    {
      "cell_type": "code",
      "source": [
        "train_datagen = ImageDataGenerator(rescale = 1./255)#initialize train generator\n",
        "\n",
        "test_datagen = ImageDataGenerator(rescale = 1.0/255.) #initialize test generator"
      ],
      "metadata": {
        "id": "Iul-BrVWug7h",
        "execution": {
          "iopub.status.busy": "2023-05-07T02:02:07.867217Z",
          "iopub.execute_input": "2023-05-07T02:02:07.868004Z",
          "iopub.status.idle": "2023-05-07T02:02:07.873323Z",
          "shell.execute_reply.started": "2023-05-07T02:02:07.867931Z",
          "shell.execute_reply": "2023-05-07T02:02:07.872243Z"
        },
        "trusted": true
      },
      "execution_count": 9,
      "outputs": []
    },
    {
      "cell_type": "code",
      "source": [
        "train_datagen = ImageDataGenerator(zoom_range=0.15,width_shift_range=0.2,height_shift_range=0.2,shear_range=0.15)\n",
        "\n",
        "test_datagen = ImageDataGenerator()\n",
        "\n",
        "\n",
        "train_generator = train_datagen.flow_from_directory(train_ds,target_size=(224, 224),batch_size=32,shuffle=True,class_mode='categorical')\n",
        "\n",
        "test_generator = test_datagen.flow_from_directory(test_ds,target_size=(224,224),batch_size=32,shuffle=False,class_mode='categorical')\n"
      ],
      "metadata": {
        "id": "QZ5QggyWumJH",
        "outputId": "a5c193dd-1807-4b5c-f2e2-77409feb86e7",
        "execution": {
          "iopub.status.busy": "2023-05-07T02:02:07.874611Z",
          "iopub.execute_input": "2023-05-07T02:02:07.87517Z",
          "iopub.status.idle": "2023-05-07T02:02:23.901976Z",
          "shell.execute_reply.started": "2023-05-07T02:02:07.875136Z",
          "shell.execute_reply": "2023-05-07T02:02:23.901081Z"
        },
        "trusted": true,
        "colab": {
          "base_uri": "https://localhost:8080/"
        }
      },
      "execution_count": 10,
      "outputs": [
        {
          "output_type": "stream",
          "name": "stdout",
          "text": [
            "Found 47009 images belonging to 2 classes.\n",
            "Found 11649 images belonging to 2 classes.\n"
          ]
        }
      ]
    },
    {
      "cell_type": "code",
      "source": [
        "train_generator[0][0].shape"
      ],
      "metadata": {
        "id": "Pyi5ggakuxbB",
        "outputId": "1c4f7c46-55f8-46f8-ae43-945275aa4c7b",
        "execution": {
          "iopub.status.busy": "2023-05-07T02:02:23.903108Z",
          "iopub.execute_input": "2023-05-07T02:02:23.903443Z",
          "iopub.status.idle": "2023-05-07T02:02:24.378375Z",
          "shell.execute_reply.started": "2023-05-07T02:02:23.903412Z",
          "shell.execute_reply": "2023-05-07T02:02:24.377423Z"
        },
        "trusted": true,
        "colab": {
          "base_uri": "https://localhost:8080/"
        }
      },
      "execution_count": 11,
      "outputs": [
        {
          "output_type": "execute_result",
          "data": {
            "text/plain": [
              "(32, 224, 224, 3)"
            ]
          },
          "metadata": {},
          "execution_count": 11
        }
      ]
    },
    {
      "cell_type": "code",
      "source": [
        "img= train_generator[0]\n",
        "print(img)"
      ],
      "metadata": {
        "id": "5mU_UVBju17K",
        "outputId": "ecbfb40d-977b-4aaa-9b7e-93f577ed7cce",
        "execution": {
          "iopub.status.busy": "2023-05-07T02:02:24.382382Z",
          "iopub.execute_input": "2023-05-07T02:02:24.382686Z",
          "iopub.status.idle": "2023-05-07T02:02:24.742471Z",
          "shell.execute_reply.started": "2023-05-07T02:02:24.382646Z",
          "shell.execute_reply": "2023-05-07T02:02:24.74145Z"
        },
        "trusted": true,
        "colab": {
          "base_uri": "https://localhost:8080/"
        }
      },
      "execution_count": 12,
      "outputs": [
        {
          "output_type": "stream",
          "name": "stdout",
          "text": [
            "(array([[[[140.7581   ,  99.758095 ,  68.51619  ],\n",
            "         [140.       ,  99.       ,  67.       ],\n",
            "         [143.1627   , 102.68982  ,  69.10847  ],\n",
            "         ...,\n",
            "         [ 65.       ,  54.       ,  48.       ],\n",
            "         [ 65.       ,  54.       ,  48.       ],\n",
            "         [ 65.       ,  54.       ,  48.       ]],\n",
            "\n",
            "        [[140.75584  ,  99.75584  ,  68.51167  ],\n",
            "         [140.       ,  99.       ,  67.       ],\n",
            "         [143.16948  , 102.697716 ,  69.11298  ],\n",
            "         ...,\n",
            "         [ 65.       ,  54.       ,  48.       ],\n",
            "         [ 65.       ,  54.       ,  48.       ],\n",
            "         [ 65.       ,  54.       ,  48.       ]],\n",
            "\n",
            "        [[140.75359  ,  99.75358  ,  68.50716  ],\n",
            "         [140.       ,  99.       ,  67.       ],\n",
            "         [143.17625  , 102.70562  ,  69.1175   ],\n",
            "         ...,\n",
            "         [ 65.       ,  54.       ,  48.       ],\n",
            "         [ 65.       ,  54.       ,  48.       ],\n",
            "         [ 65.       ,  54.       ,  48.       ]],\n",
            "\n",
            "        ...,\n",
            "\n",
            "        [[200.21074  , 139.97194  ,  92.93417  ],\n",
            "         [200.08679  , 139.21696  ,  92.17357  ],\n",
            "         [206.90756  , 145.93665  ,  98.926956 ],\n",
            "         ...,\n",
            "         [191.13017  , 164.13017  , 147.13017  ],\n",
            "         [191.13017  , 164.13017  , 147.13017  ],\n",
            "         [191.13017  , 164.13017  , 147.13017  ]],\n",
            "\n",
            "        [[199.8958   , 139.53804  ,  92.53805  ],\n",
            "         [199.7769   , 138.7769   ,  91.7769   ],\n",
            "         [206.545    , 145.545    ,  98.545    ],\n",
            "         ...,\n",
            "         [190.85127  , 163.70253  , 146.7769   ],\n",
            "         [190.85127  , 163.70253  , 146.7769   ],\n",
            "         [190.85127  , 163.70253  , 146.7769   ]],\n",
            "\n",
            "        [[197.       , 136.6366   ,  89.636604 ],\n",
            "         [197.       , 136.       ,  89.       ],\n",
            "         [200.89423  , 139.89423  ,  92.89422  ],\n",
            "         ...,\n",
            "         [189.       , 160.       , 144.       ],\n",
            "         [189.       , 160.       , 144.       ],\n",
            "         [189.       , 160.       , 144.       ]]],\n",
            "\n",
            "\n",
            "       [[[150.       , 185.       , 103.       ],\n",
            "         [150.       , 185.       , 103.       ],\n",
            "         [150.       , 185.       , 103.       ],\n",
            "         ...,\n",
            "         [ 26.83064  ,  28.83064  ,  16.298386 ],\n",
            "         [ 28.       ,  30.       ,  17.       ],\n",
            "         [ 39.874477 ,  41.874477 ,  28.249506 ]],\n",
            "\n",
            "        [[150.       , 185.       , 103.       ],\n",
            "         [150.       , 185.       , 103.       ],\n",
            "         [150.       , 185.       , 103.       ],\n",
            "         ...,\n",
            "         [ 26.824718 ,  28.824718 ,  16.29483  ],\n",
            "         [ 28.       ,  30.       ,  17.       ],\n",
            "         [ 39.85197  ,  41.85197  ,  28.228182 ]],\n",
            "\n",
            "        [[150.       , 185.       , 103.       ],\n",
            "         [150.       , 185.       , 103.       ],\n",
            "         [150.       , 185.       , 103.       ],\n",
            "         ...,\n",
            "         [ 26.818794 ,  28.818794 ,  16.291277 ],\n",
            "         [ 28.       ,  30.       ,  17.       ],\n",
            "         [ 39.82946  ,  41.82946  ,  28.206858 ]],\n",
            "\n",
            "        ...,\n",
            "\n",
            "        [[ 36.       ,  37.       ,  57.       ],\n",
            "         [ 36.       ,  37.       ,  57.       ],\n",
            "         [ 36.       ,  37.       ,  57.       ],\n",
            "         ...,\n",
            "         [209.97409  , 190.97409  , 158.97409  ],\n",
            "         [207.       , 188.       , 156.       ],\n",
            "         [203.73154  , 185.82101  , 153.45786  ]],\n",
            "\n",
            "        [[ 36.       ,  37.       ,  57.       ],\n",
            "         [ 36.       ,  37.       ,  57.       ],\n",
            "         [ 36.       ,  37.       ,  57.       ],\n",
            "         ...,\n",
            "         [198.8125   , 179.33087  , 146.36153  ],\n",
            "         [192.45988  , 173.45988  , 140.49054  ],\n",
            "         [189.90384  , 170.93713  , 138.30757  ]],\n",
            "\n",
            "        [[ 36.       ,  37.       ,  57.       ],\n",
            "         [ 36.       ,  37.       ,  57.       ],\n",
            "         [ 36.       ,  37.       ,  57.       ],\n",
            "         ...,\n",
            "         [198.25284  , 178.75046  , 145.76349  ],\n",
            "         [191.7652   , 172.7652   , 139.7739   ],\n",
            "         [189.25533  , 170.25533  , 137.62794  ]]],\n",
            "\n",
            "\n",
            "       [[[142.37823  ,  86.06493  ,  27.89862  ],\n",
            "         [147.62479  ,  90.15882  ,  29.647474 ],\n",
            "         [147.62479  ,  90.15882  ,  29.647474 ],\n",
            "         ...,\n",
            "         [139.13477  ,  80.77592  ,  34.60564  ],\n",
            "         [137.51134  ,  79.       ,  34.02269  ],\n",
            "         [130.00491  ,  71.22899  ,  27.334553 ]],\n",
            "\n",
            "        [[136.76552  ,  79.510345 ,  21.255173 ],\n",
            "         [142.       ,  83.       ,  23.       ],\n",
            "         [142.       ,  83.       ,  23.       ],\n",
            "         ...,\n",
            "         [139.3752   ,  81.375206 ,  34.187603 ],\n",
            "         [137.       ,  79.       ,  33.       ],\n",
            "         [126.144394 ,  67.601616 ,  22.687176 ]],\n",
            "\n",
            "        [[137.33876  ,  78.89377  ,  21.029839 ],\n",
            "         [142.79053  ,  82.60474  ,  23.       ],\n",
            "         [142.79053  ,  82.60474  ,  23.       ],\n",
            "         ...,\n",
            "         [139.99338  ,  80.924416 ,  33.23009  ],\n",
            "         [137.39526  ,  78.20947  ,  31.814207 ],\n",
            "         [125.007324 ,  65.492485 ,  20.185463 ]],\n",
            "\n",
            "        ...,\n",
            "\n",
            "        [[177.00533  , 108.291794 ,  33.291794 ],\n",
            "         [175.       , 106.       ,  31.       ],\n",
            "         [175.       , 106.       ,  31.       ],\n",
            "         ...,\n",
            "         [ 95.01589  ,  37.01589  ,  13.01942  ],\n",
            "         [ 95.       ,  37.       ,  13.       ],\n",
            "         [ 85.782936 ,  27.782932 ,   3.7829325]],\n",
            "\n",
            "        [[176.99593  , 108.28106  ,  33.281063 ],\n",
            "         [175.       , 106.       ,  31.       ],\n",
            "         [175.       , 106.       ,  31.       ],\n",
            "         ...,\n",
            "         [ 95.003815 ,  37.003815 ,  13.0046625],\n",
            "         [ 95.       ,  37.       ,  13.       ],\n",
            "         [ 85.76817  ,  27.768175 ,   3.7681758]],\n",
            "\n",
            "        [[176.98654  , 108.27033  ,  33.27033  ],\n",
            "         [175.       , 106.       ,  31.       ],\n",
            "         [175.       , 106.       ,  31.       ],\n",
            "         ...,\n",
            "         [ 95.       ,  37.       ,  13.       ],\n",
            "         [ 95.       ,  37.       ,  13.       ],\n",
            "         [ 85.75342  ,  27.75342  ,   3.753419 ]]],\n",
            "\n",
            "\n",
            "       ...,\n",
            "\n",
            "\n",
            "       [[[104.       ,  85.       ,  70.       ],\n",
            "         [104.       ,  85.       ,  70.       ],\n",
            "         [104.       ,  85.       ,  70.       ],\n",
            "         ...,\n",
            "         [100.       ,  68.       ,  45.       ],\n",
            "         [100.       ,  69.36013  ,  45.680065 ],\n",
            "         [100.       ,  70.       ,  46.       ]],\n",
            "\n",
            "        [[104.514656 ,  84.742676 ,  70.       ],\n",
            "         [104.514656 ,  84.742676 ,  70.       ],\n",
            "         [104.514656 ,  84.742676 ,  70.       ],\n",
            "         ...,\n",
            "         [100.77198  ,  68.77198  ,  45.771984 ],\n",
            "         [ 99.545105 ,  68.907326 ,  45.226215 ],\n",
            "         [ 98.97069  ,  68.97069  ,  44.970688 ]],\n",
            "\n",
            "        [[106.       ,  84.       ,  70.       ],\n",
            "         [106.       ,  84.       ,  70.       ],\n",
            "         [106.       ,  84.       ,  70.       ],\n",
            "         ...,\n",
            "         [103.       ,  71.       ,  48.       ],\n",
            "         [ 98.224945 ,  67.58925  ,  43.907097 ],\n",
            "         [ 96.       ,  66.       ,  42.       ]],\n",
            "\n",
            "        ...,\n",
            "\n",
            "        [[ 96.       ,  42.       ,  30.       ],\n",
            "         [ 96.       ,  42.       ,  30.       ],\n",
            "         [ 96.       ,  42.       ,  30.       ],\n",
            "         ...,\n",
            "         [124.       ,  52.       ,  28.       ],\n",
            "         [136.74841  ,  61.10601  ,  37.10601  ],\n",
            "         [138.       ,  62.       ,  38.       ]],\n",
            "\n",
            "        [[ 96.       ,  42.       ,  30.       ],\n",
            "         [ 96.       ,  42.       ,  30.       ],\n",
            "         [ 96.       ,  42.       ,  30.       ],\n",
            "         ...,\n",
            "         [124.       ,  52.       ,  28.       ],\n",
            "         [136.76302  ,  61.116444 ,  37.116444 ],\n",
            "         [138.       ,  62.       ,  38.       ]],\n",
            "\n",
            "        [[ 96.       ,  42.       ,  30.       ],\n",
            "         [ 96.       ,  42.       ,  30.       ],\n",
            "         [ 96.       ,  42.       ,  30.       ],\n",
            "         ...,\n",
            "         [124.       ,  52.       ,  28.       ],\n",
            "         [136.77762  ,  61.126873 ,  37.126873 ],\n",
            "         [138.       ,  62.       ,  38.       ]]],\n",
            "\n",
            "\n",
            "       [[[239.27158  , 234.27158  , 240.27158  ],\n",
            "         [241.25505  , 236.34435  , 242.31458  ],\n",
            "         [243.79633  , 239.       , 244.93211  ],\n",
            "         ...,\n",
            "         [ 74.882614 ,  68.882614 ,  46.61104  ],\n",
            "         [ 74.882614 ,  68.882614 ,  46.61104  ],\n",
            "         [ 74.882614 ,  68.882614 ,  46.61104  ]],\n",
            "\n",
            "        [[239.       , 234.       , 240.       ],\n",
            "         [241.1859   , 236.1859   , 242.1859   ],\n",
            "         [244.       , 239.       , 245.       ],\n",
            "         ...,\n",
            "         [ 74.       ,  68.       ,  46.       ],\n",
            "         [ 74.       ,  68.       ,  46.       ],\n",
            "         [ 74.       ,  68.       ,  46.       ]],\n",
            "\n",
            "        [[230.       , 224.       , 228.       ],\n",
            "         [233.05197  , 227.48796  , 231.48796  ],\n",
            "         [237.       , 232.       , 236.       ],\n",
            "         ...,\n",
            "         [ 59.       ,  51.       ,  32.       ],\n",
            "         [ 59.       ,  51.       ,  32.       ],\n",
            "         [ 59.       ,  51.       ,  32.       ]],\n",
            "\n",
            "        ...,\n",
            "\n",
            "        [[117.       ,  54.       ,  19.       ],\n",
            "         [116.64651  ,  54.176746 ,  19.35349  ],\n",
            "         [115.       ,  55.       ,  21.       ],\n",
            "         ...,\n",
            "         [151.       , 155.       ,  60.       ],\n",
            "         [151.       , 155.       ,  60.       ],\n",
            "         [151.       , 155.       ,  60.       ]],\n",
            "\n",
            "        [[117.       ,  54.       ,  19.       ],\n",
            "         [116.64888  ,  54.17556  ,  19.351124 ],\n",
            "         [115.       ,  55.       ,  21.       ],\n",
            "         ...,\n",
            "         [151.       , 155.       ,  60.       ],\n",
            "         [151.       , 155.       ,  60.       ],\n",
            "         [151.       , 155.       ,  60.       ]],\n",
            "\n",
            "        [[117.       ,  54.       ,  19.       ],\n",
            "         [116.651245 ,  54.174377 ,  19.348755 ],\n",
            "         [115.       ,  55.       ,  21.       ],\n",
            "         ...,\n",
            "         [151.       , 155.       ,  60.       ],\n",
            "         [151.       , 155.       ,  60.       ],\n",
            "         [151.       , 155.       ,  60.       ]]],\n",
            "\n",
            "\n",
            "       [[[ 33.       ,  28.       ,  32.       ],\n",
            "         [ 33.       ,  28.       ,  32.       ],\n",
            "         [ 33.       ,  28.       ,  32.       ],\n",
            "         ...,\n",
            "         [133.       , 122.       , 126.       ],\n",
            "         [133.       , 122.       , 126.       ],\n",
            "         [106.96843  ,  94.232994 ,  97.79913  ]],\n",
            "\n",
            "        [[ 33.       ,  28.       ,  32.       ],\n",
            "         [ 33.       ,  28.       ,  32.       ],\n",
            "         [ 33.       ,  28.       ,  32.       ],\n",
            "         ...,\n",
            "         [133.       , 122.       , 126.       ],\n",
            "         [133.       , 122.       , 126.       ],\n",
            "         [107.10129  ,  94.3747   ,  97.943054 ]],\n",
            "\n",
            "        [[ 33.       ,  28.       ,  32.       ],\n",
            "         [ 33.       ,  28.       ,  32.       ],\n",
            "         [ 33.       ,  28.       ,  32.       ],\n",
            "         ...,\n",
            "         [133.       , 122.       , 126.       ],\n",
            "         [133.       , 122.       , 126.       ],\n",
            "         [107.23414  ,  94.51641  ,  98.08698  ]],\n",
            "\n",
            "        ...,\n",
            "\n",
            "        [[ 76.29218  ,  57.023922 ,  59.023922 ],\n",
            "         [ 76.29218  ,  57.023922 ,  59.023922 ],\n",
            "         [ 76.29218  ,  57.023922 ,  59.023922 ],\n",
            "         ...,\n",
            "         [150.46347  , 104.926956 ,  99.12217  ],\n",
            "         [150.46347  , 104.926956 ,  99.12217  ],\n",
            "         [150.46347  , 104.926956 ,  99.12217  ]],\n",
            "\n",
            "        [[ 72.       ,  53.       ,  55.       ],\n",
            "         [ 72.       ,  53.       ,  55.       ],\n",
            "         [ 72.       ,  53.       ,  55.       ],\n",
            "         ...,\n",
            "         [151.       , 106.       , 101.       ],\n",
            "         [151.       , 106.       , 101.       ],\n",
            "         [151.       , 106.       , 101.       ]],\n",
            "\n",
            "        [[ 73.58098  ,  58.53342  ,  58.952442 ],\n",
            "         [ 73.58098  ,  58.53342  ,  58.952442 ],\n",
            "         [ 73.58098  ,  58.53342  ,  58.952442 ],\n",
            "         ...,\n",
            "         [140.73125  ,  98.88817  ,  94.67852  ],\n",
            "         [140.72365  ,  98.885605 ,  94.676094 ],\n",
            "         [140.72365  ,  98.885605 ,  94.676094 ]]]], dtype=float32), array([[0., 1.],\n",
            "       [0., 1.],\n",
            "       [1., 0.],\n",
            "       [0., 1.],\n",
            "       [0., 1.],\n",
            "       [0., 1.],\n",
            "       [0., 1.],\n",
            "       [0., 1.],\n",
            "       [1., 0.],\n",
            "       [0., 1.],\n",
            "       [0., 1.],\n",
            "       [0., 1.],\n",
            "       [1., 0.],\n",
            "       [1., 0.],\n",
            "       [0., 1.],\n",
            "       [0., 1.],\n",
            "       [0., 1.],\n",
            "       [1., 0.],\n",
            "       [1., 0.],\n",
            "       [0., 1.],\n",
            "       [1., 0.],\n",
            "       [0., 1.],\n",
            "       [0., 1.],\n",
            "       [1., 0.],\n",
            "       [0., 1.],\n",
            "       [0., 1.],\n",
            "       [1., 0.],\n",
            "       [0., 1.],\n",
            "       [0., 1.],\n",
            "       [1., 0.],\n",
            "       [0., 1.],\n",
            "       [1., 0.]], dtype=float32))\n"
          ]
        }
      ]
    },
    {
      "cell_type": "code",
      "source": [
        "type(train_generator)"
      ],
      "metadata": {
        "id": "Ky4CBd67u5Dv",
        "outputId": "be18bacf-edd0-456a-df40-86a0eb642689",
        "execution": {
          "iopub.status.busy": "2023-05-07T02:02:24.743998Z",
          "iopub.execute_input": "2023-05-07T02:02:24.744329Z",
          "iopub.status.idle": "2023-05-07T02:02:24.751522Z",
          "shell.execute_reply.started": "2023-05-07T02:02:24.744298Z",
          "shell.execute_reply": "2023-05-07T02:02:24.750243Z"
        },
        "trusted": true,
        "colab": {
          "base_uri": "https://localhost:8080/",
          "height": 238
        }
      },
      "execution_count": 13,
      "outputs": [
        {
          "output_type": "execute_result",
          "data": {
            "text/plain": [
              "keras.src.preprocessing.image.DirectoryIterator"
            ],
            "text/html": [
              "<div style=\"max-width:800px; border: 1px solid var(--colab-border-color);\"><style>\n",
              "      pre.function-repr-contents {\n",
              "        overflow-x: auto;\n",
              "        padding: 8px 12px;\n",
              "        max-height: 500px;\n",
              "      }\n",
              "\n",
              "      pre.function-repr-contents.function-repr-contents-collapsed {\n",
              "        cursor: pointer;\n",
              "        max-height: 100px;\n",
              "      }\n",
              "    </style>\n",
              "    <pre style=\"white-space: initial; background:\n",
              "         var(--colab-secondary-surface-color); padding: 8px 12px;\n",
              "         border-bottom: 1px solid var(--colab-border-color);\"><b>keras.src.preprocessing.image.DirectoryIterator</b><br/>def __init__(directory, image_data_generator, target_size=(256, 256), color_mode=&#x27;rgb&#x27;, classes=None, class_mode=&#x27;categorical&#x27;, batch_size=32, shuffle=True, seed=None, data_format=None, save_to_dir=None, save_prefix=&#x27;&#x27;, save_format=&#x27;png&#x27;, follow_links=False, subset=None, interpolation=&#x27;nearest&#x27;, keep_aspect_ratio=False, dtype=None)</pre><pre class=\"function-repr-contents function-repr-contents-collapsed\" style=\"\"><a class=\"filepath\" style=\"display:none\" href=\"#\">/usr/local/lib/python3.10/dist-packages/keras/src/preprocessing/image.py</a>Iterator capable of reading images from a directory on disk.\n",
              "\n",
              "Deprecated: `tf.keras.preprocessing.image.DirectoryIterator` is not\n",
              "recommended for new code. Prefer loading images with\n",
              "`tf.keras.utils.image_dataset_from_directory` and transforming the output\n",
              "`tf.data.Dataset` with preprocessing layers. For more information, see the\n",
              "tutorials for [loading images](\n",
              "https://www.tensorflow.org/tutorials/load_data/images) and\n",
              "[augmenting images](\n",
              "https://www.tensorflow.org/tutorials/images/data_augmentation), as well as\n",
              "the [preprocessing layer guide](\n",
              "https://www.tensorflow.org/guide/keras/preprocessing_layers).\n",
              "\n",
              "Args:\n",
              "    directory: Path to the directory to read images from. Each subdirectory\n",
              "      in this directory will be considered to contain images from one class,\n",
              "      or alternatively you could specify class subdirectories via the\n",
              "      `classes` argument.\n",
              "    image_data_generator: Instance of `ImageDataGenerator` to use for random\n",
              "      transformations and normalization.\n",
              "    target_size: tuple of integers, dimensions to resize input images to.\n",
              "    color_mode: One of `&quot;rgb&quot;`, `&quot;rgba&quot;`, `&quot;grayscale&quot;`. Color mode to read\n",
              "      images.\n",
              "    classes: Optional list of strings, names of subdirectories containing\n",
              "      images from each class (e.g. `[&quot;dogs&quot;, &quot;cats&quot;]`). It will be computed\n",
              "      automatically if not set.\n",
              "    class_mode: Mode for yielding the targets:\n",
              "        - `&quot;binary&quot;`: binary targets (if there are only two classes),\n",
              "        - `&quot;categorical&quot;`: categorical targets,\n",
              "        - `&quot;sparse&quot;`: integer targets,\n",
              "        - `&quot;input&quot;`: targets are images identical to input images (mainly\n",
              "          used to work with autoencoders),\n",
              "        - `None`: no targets get yielded (only input images are yielded).\n",
              "    batch_size: Integer, size of a batch.\n",
              "    shuffle: Boolean, whether to shuffle the data between epochs.\n",
              "    seed: Random seed for data shuffling.\n",
              "    data_format: String, one of `channels_first`, `channels_last`.\n",
              "    save_to_dir: Optional directory where to save the pictures being\n",
              "      yielded, in a viewable format. This is useful for visualizing the\n",
              "      random transformations being applied, for debugging purposes.\n",
              "    save_prefix: String prefix to use for saving sample images (if\n",
              "      `save_to_dir` is set).\n",
              "    save_format: Format to use for saving sample images (if `save_to_dir` is\n",
              "      set).\n",
              "    subset: Subset of data (`&quot;training&quot;` or `&quot;validation&quot;`) if\n",
              "      validation_split is set in ImageDataGenerator.\n",
              "    interpolation: Interpolation method used to resample the image if the\n",
              "      target size is different from that of the loaded image. Supported\n",
              "      methods are &quot;nearest&quot;, &quot;bilinear&quot;, and &quot;bicubic&quot;. If PIL version 1.1.3\n",
              "      or newer is installed, &quot;lanczos&quot; is also supported. If PIL version\n",
              "      3.4.0 or newer is installed, &quot;box&quot; and &quot;hamming&quot; are also supported.\n",
              "      By default, &quot;nearest&quot; is used.\n",
              "    keep_aspect_ratio: Boolean, whether to resize images to a target size\n",
              "        without aspect ratio distortion. The image is cropped in the center\n",
              "        with target aspect ratio before resizing.\n",
              "    dtype: Dtype to use for generated arrays.</pre>\n",
              "      <script>\n",
              "      if (google.colab.kernel.accessAllowed && google.colab.files && google.colab.files.view) {\n",
              "        for (const element of document.querySelectorAll('.filepath')) {\n",
              "          element.style.display = 'block'\n",
              "          element.onclick = (event) => {\n",
              "            event.preventDefault();\n",
              "            event.stopPropagation();\n",
              "            google.colab.files.view(element.textContent, 449);\n",
              "          };\n",
              "        }\n",
              "      }\n",
              "      for (const element of document.querySelectorAll('.function-repr-contents')) {\n",
              "        element.onclick = (event) => {\n",
              "          event.preventDefault();\n",
              "          event.stopPropagation();\n",
              "          element.classList.toggle('function-repr-contents-collapsed');\n",
              "        };\n",
              "      }\n",
              "      </script>\n",
              "      </div>"
            ]
          },
          "metadata": {},
          "execution_count": 13
        }
      ]
    },
    {
      "cell_type": "code",
      "source": [
        "img = train_generator[0]\n",
        "print(img[0].shape) # shape of the input batch\n",
        "print(img[1].shape) # shape of the target labels"
      ],
      "metadata": {
        "id": "R_9UPBw8u5Hc",
        "outputId": "35169f75-f5cd-4e84-b37a-1a1daa9949df",
        "execution": {
          "iopub.status.busy": "2023-05-07T02:02:24.75329Z",
          "iopub.execute_input": "2023-05-07T02:02:24.753676Z",
          "iopub.status.idle": "2023-05-07T02:02:25.11834Z",
          "shell.execute_reply.started": "2023-05-07T02:02:24.753644Z",
          "shell.execute_reply": "2023-05-07T02:02:25.117255Z"
        },
        "trusted": true,
        "colab": {
          "base_uri": "https://localhost:8080/"
        }
      },
      "execution_count": 14,
      "outputs": [
        {
          "output_type": "stream",
          "name": "stdout",
          "text": [
            "(32, 224, 224, 3)\n",
            "(32, 2)\n"
          ]
        }
      ]
    },
    {
      "cell_type": "code",
      "source": [
        "print(len(train_generator))\n",
        "print(len(test_ds))"
      ],
      "metadata": {
        "id": "tz74hHIXu5Kh",
        "outputId": "cd6a7d77-0ca0-4134-8f6c-d9428aac9193",
        "execution": {
          "iopub.status.busy": "2023-05-07T02:02:25.120078Z",
          "iopub.execute_input": "2023-05-07T02:02:25.120443Z",
          "iopub.status.idle": "2023-05-07T02:02:25.125969Z",
          "shell.execute_reply.started": "2023-05-07T02:02:25.12041Z",
          "shell.execute_reply": "2023-05-07T02:02:25.12495Z"
        },
        "trusted": true,
        "colab": {
          "base_uri": "https://localhost:8080/"
        }
      },
      "execution_count": 15,
      "outputs": [
        {
          "output_type": "stream",
          "name": "stdout",
          "text": [
            "1470\n",
            "54\n"
          ]
        }
      ]
    },
    {
      "cell_type": "code",
      "source": [
        "import matplotlib.pyplot as plt\n",
        "from skimage import io\n",
        "\n",
        "# Load image\n",
        "img_url = \"/kaggle/input/gender-classification-dataset/Training/male/090553.jpg.jpg\"\n",
        "img = io.imread(img_url)\n",
        "\n",
        "# Display image\n",
        "plt.imshow(img)\n",
        "plt.axis('off')\n",
        "plt.show()"
      ],
      "metadata": {
        "id": "0kFjIvPzvGrN",
        "outputId": "a694acf6-3568-4d8b-ff7e-fbbb3f51ca7f",
        "execution": {
          "iopub.status.busy": "2023-05-07T02:02:25.127657Z",
          "iopub.execute_input": "2023-05-07T02:02:25.128464Z",
          "iopub.status.idle": "2023-05-07T02:02:25.488066Z",
          "shell.execute_reply.started": "2023-05-07T02:02:25.128428Z",
          "shell.execute_reply": "2023-05-07T02:02:25.4867Z"
        },
        "trusted": true,
        "colab": {
          "base_uri": "https://localhost:8080/",
          "height": 406
        }
      },
      "execution_count": 16,
      "outputs": [
        {
          "output_type": "display_data",
          "data": {
            "text/plain": [
              "<Figure size 640x480 with 1 Axes>"
            ],
            "image/png": "[encoded data removed]"
          },
          "metadata": {}
        }
      ]
    },
    {
      "cell_type": "code",
      "source": [
        "from keras.layers import MaxPool2D"
      ],
      "metadata": {
        "id": "LFSppBN8u5M5",
        "execution": {
          "iopub.status.busy": "2023-05-07T02:02:25.489437Z",
          "iopub.execute_input": "2023-05-07T02:02:25.489777Z",
          "iopub.status.idle": "2023-05-07T02:02:25.496257Z",
          "shell.execute_reply.started": "2023-05-07T02:02:25.489743Z",
          "shell.execute_reply": "2023-05-07T02:02:25.494755Z"
        },
        "trusted": true
      },
      "execution_count": null,
      "outputs": []
    },
    {
      "cell_type": "markdown",
      "source": [
        "# Build VVG_19 Model"
      ],
      "metadata": {
        "id": "d6UZMTsNjHN9"
      }
    },
    {
      "cell_type": "code",
      "source": [
        "# VGG 19 Model\n",
        "class VGG19(Sequential):\n",
        "    def __init__(self, input_shape):\n",
        "        super().__init__()\n",
        "\n",
        "        self.add(Conv2D(64, kernel_size=(3,3), padding= 'same',\n",
        "                        activation= 'relu', input_shape= input_shape))\n",
        "        self.add(Conv2D(64, kernel_size=(3,3), padding= 'same',\n",
        "                        activation= 'relu'))\n",
        "        self.add(MaxPooling2D(pool_size=(2,2), strides= (2,2)))\n",
        "\n",
        "        self.add(Conv2D(128, kernel_size=(3,3), padding= 'same',\n",
        "                        activation= 'relu'))\n",
        "        self.add(Conv2D(128, kernel_size=(3,3), padding= 'same',\n",
        "                        activation= 'relu'))\n",
        "        self.add(MaxPooling2D(pool_size=(2,2), strides= (2,2)))\n",
        "\n",
        "        self.add(Conv2D(256, kernel_size=(3,3), padding= 'same',\n",
        "                        activation= 'relu'))\n",
        "        self.add(Conv2D(256, kernel_size=(3,3), padding= 'same',\n",
        "                        activation= 'relu'))\n",
        "        self.add(Conv2D(256, kernel_size=(3,3), padding= 'same',\n",
        "                        activation= 'relu'))\n",
        "        self.add(Conv2D(256, kernel_size=(3,3), padding= 'same',\n",
        "                        activation= 'relu'))\n",
        "        self.add(MaxPooling2D(pool_size=(2,2), strides= (2,2)))\n",
        "\n",
        "        self.add(Conv2D(512, kernel_size=(3,3), padding= 'same',\n",
        "                        activation= 'relu'))\n",
        "        self.add(Conv2D(512, kernel_size=(3,3), padding= 'same',\n",
        "                        activation= 'relu'))\n",
        "        self.add(Conv2D(512, kernel_size=(3,3), padding= 'same',\n",
        "                        activation= 'relu'))\n",
        "        self.add(Conv2D(512, kernel_size=(3,3), padding= 'same',\n",
        "                        activation= 'relu'))\n",
        "        self.add(MaxPooling2D(pool_size=(2,2), strides= (2,2)))\n",
        "\n",
        "        self.add(Conv2D(512, kernel_size=(3,3), padding= 'same',\n",
        "                        activation= 'relu'))\n",
        "        self.add(Conv2D(512, kernel_size=(3,3), padding= 'same',\n",
        "                        activation= 'relu'))\n",
        "        self.add(Conv2D(512, kernel_size=(3,3), padding= 'same',\n",
        "                        activation= 'relu'))\n",
        "        self.add(Conv2D(512, kernel_size=(3,3), padding= 'same',\n",
        "                        activation= 'relu'))\n",
        "        self.add(MaxPooling2D(pool_size=(2,2), strides= (2,2)))\n",
        "\n",
        "        self.add(Flatten())\n",
        "        self.add(Dense(4096, activation= 'relu'))\n",
        "        self.add(Dropout(0.5))\n",
        "        self.add(Dense(4096, activation= 'relu'))\n",
        "        self.add(Dropout(0.5))\n",
        "        self.add(Dense(2, activation= 'softmax'))\n",
        "\n",
        "        self.compile(optimizer= tf.keras.optimizers.Adam(0.003),\n",
        "                    loss='categorical_crossentropy',\n",
        "                    metrics=['accuracy'])"
      ],
      "metadata": {
        "execution": {
          "iopub.status.busy": "2023-05-07T02:02:25.497602Z",
          "iopub.execute_input": "2023-05-07T02:02:25.498057Z",
          "iopub.status.idle": "2023-05-07T02:02:25.52578Z",
          "shell.execute_reply.started": "2023-05-07T02:02:25.498025Z",
          "shell.execute_reply": "2023-05-07T02:02:25.524203Z"
        },
        "trusted": true,
        "id": "Cgjow5vOjHN9"
      },
      "execution_count": 17,
      "outputs": []
    },
    {
      "cell_type": "code",
      "source": [
        "model = VGG19((224, 224, 3))"
      ],
      "metadata": {
        "execution": {
          "iopub.status.busy": "2023-05-07T02:02:25.531744Z",
          "iopub.execute_input": "2023-05-07T02:02:25.533245Z",
          "iopub.status.idle": "2023-05-07T02:02:29.64921Z",
          "shell.execute_reply.started": "2023-05-07T02:02:25.533203Z",
          "shell.execute_reply": "2023-05-07T02:02:29.648203Z"
        },
        "trusted": true,
        "id": "YN0TgSgLjHN-"
      },
      "execution_count": 18,
      "outputs": []
    },
    {
      "cell_type": "code",
      "source": [
        "# Print the model summary\n",
        "\n",
        "model.summary()"
      ],
      "metadata": {
        "id": "iMsGTEl-vef6",
        "execution": {
          "iopub.status.busy": "2023-05-07T02:02:29.650435Z",
          "iopub.execute_input": "2023-05-07T02:02:29.650772Z",
          "iopub.status.idle": "2023-05-07T02:02:29.702968Z",
          "shell.execute_reply.started": "2023-05-07T02:02:29.650741Z",
          "shell.execute_reply": "2023-05-07T02:02:29.702229Z"
        },
        "trusted": true,
        "outputId": "ab76dfcc-0f29-45a2-8b34-0fcade44b152",
        "colab": {
          "base_uri": "https://localhost:8080/"
        }
      },
      "execution_count": 19,
      "outputs": [
        {
          "output_type": "stream",
          "name": "stdout",
          "text": [
            "Model: \"vgg19\"\n",
            "_________________________________________________________________\n",
            " Layer (type)                Output Shape              Param #   \n",
            "=================================================================\n",
            " conv2d (Conv2D)             (None, 224, 224, 64)      1792      \n",
            "                                                                 \n",
            " conv2d_1 (Conv2D)           (None, 224, 224, 64)      36928     \n",
            "                                                                 \n",
            " max_pooling2d (MaxPooling2  (None, 112, 112, 64)      0         \n",
            " D)                                                              \n",
            "                                                                 \n",
            " conv2d_2 (Conv2D)           (None, 112, 112, 128)     73856     \n",
            "                                                                 \n",
            " conv2d_3 (Conv2D)           (None, 112, 112, 128)     147584    \n",
            "                                                                 \n",
            " max_pooling2d_1 (MaxPoolin  (None, 56, 56, 128)       0         \n",
            " g2D)                                                            \n",
            "                                                                 \n",
            " conv2d_4 (Conv2D)           (None, 56, 56, 256)       295168    \n",
            "                                                                 \n",
            " conv2d_5 (Conv2D)           (None, 56, 56, 256)       590080    \n",
            "                                                                 \n",
            " conv2d_6 (Conv2D)           (None, 56, 56, 256)       590080    \n",
            "                                                                 \n",
            " conv2d_7 (Conv2D)           (None, 56, 56, 256)       590080    \n",
            "                                                                 \n",
            " max_pooling2d_2 (MaxPoolin  (None, 28, 28, 256)       0         \n",
            " g2D)                                                            \n",
            "                                                                 \n",
            " conv2d_8 (Conv2D)           (None, 28, 28, 512)       1180160   \n",
            "                                                                 \n",
            " conv2d_9 (Conv2D)           (None, 28, 28, 512)       2359808   \n",
            "                                                                 \n",
            " conv2d_10 (Conv2D)          (None, 28, 28, 512)       2359808   \n",
            "                                                                 \n",
            " conv2d_11 (Conv2D)          (None, 28, 28, 512)       2359808   \n",
            "                                                                 \n",
            " max_pooling2d_3 (MaxPoolin  (None, 14, 14, 512)       0         \n",
            " g2D)                                                            \n",
            "                                                                 \n",
            " conv2d_12 (Conv2D)          (None, 14, 14, 512)       2359808   \n",
            "                                                                 \n",
            " conv2d_13 (Conv2D)          (None, 14, 14, 512)       2359808   \n",
            "                                                                 \n",
            " conv2d_14 (Conv2D)          (None, 14, 14, 512)       2359808   \n",
            "                                                                 \n",
            " conv2d_15 (Conv2D)          (None, 14, 14, 512)       2359808   \n",
            "                                                                 \n",
            " max_pooling2d_4 (MaxPoolin  (None, 7, 7, 512)         0         \n",
            " g2D)                                                            \n",
            "                                                                 \n",
            " flatten (Flatten)           (None, 25088)             0         \n",
            "                                                                 \n",
            " dense (Dense)               (None, 4096)              102764544 \n",
            "                                                                 \n",
            " dropout (Dropout)           (None, 4096)              0         \n",
            "                                                                 \n",
            " dense_1 (Dense)             (None, 4096)              16781312  \n",
            "                                                                 \n",
            " dropout_1 (Dropout)         (None, 4096)              0         \n",
            "                                                                 \n",
            " dense_2 (Dense)             (None, 2)                 8194      \n",
            "                                                                 \n",
            "=================================================================\n",
            "Total params: 139578434 (532.45 MB)\n",
            "Trainable params: 139578434 (532.45 MB)\n",
            "Non-trainable params: 0 (0.00 Byte)\n",
            "_________________________________________________________________\n"
          ]
        }
      ]
    },
    {
      "cell_type": "code",
      "source": [
        "import keras\n",
        "from keras.models import Sequential\n",
        "from keras.layers import Dense"
      ],
      "metadata": {
        "execution": {
          "iopub.status.busy": "2023-05-07T02:02:29.703916Z",
          "iopub.execute_input": "2023-05-07T02:02:29.704305Z",
          "iopub.status.idle": "2023-05-07T02:02:29.708841Z",
          "shell.execute_reply.started": "2023-05-07T02:02:29.704274Z",
          "shell.execute_reply": "2023-05-07T02:02:29.708107Z"
        },
        "trusted": true,
        "id": "g3wwdVPrjHN-"
      },
      "execution_count": 20,
      "outputs": []
    },
    {
      "cell_type": "code",
      "source": [
        "from keras.optimizers import Adam\n",
        "opt = Adam(learning_rate=0.00001)\n",
        "model.compile(optimizer=opt, loss=keras.losses.categorical_crossentropy, metrics=['accuracy'])"
      ],
      "metadata": {
        "id": "OC3TLAjMvn-h",
        "execution": {
          "iopub.status.busy": "2023-05-07T02:02:29.709733Z",
          "iopub.execute_input": "2023-05-07T02:02:29.710165Z",
          "iopub.status.idle": "2023-05-07T02:02:29.733668Z",
          "shell.execute_reply.started": "2023-05-07T02:02:29.71013Z",
          "shell.execute_reply": "2023-05-07T02:02:29.732968Z"
        },
        "trusted": true
      },
      "execution_count": 21,
      "outputs": []
    },
    {
      "cell_type": "code",
      "source": [
        "history =model.fit(train_generator, validation_data=test_generator, epochs=2)"
      ],
      "metadata": {
        "id": "VRFoTsb7voE2",
        "outputId": "c944907d-94ff-480d-9153-29c15ad90a74",
        "execution": {
          "iopub.status.busy": "2023-05-07T02:02:29.734566Z",
          "iopub.execute_input": "2023-05-07T02:02:29.734911Z",
          "iopub.status.idle": "2023-05-07T03:44:37.394136Z",
          "shell.execute_reply.started": "2023-05-07T02:02:29.734882Z",
          "shell.execute_reply": "2023-05-07T03:44:37.393066Z"
        },
        "trusted": true,
        "colab": {
          "base_uri": "https://localhost:8080/"
        }
      },
      "execution_count": 23,
      "outputs": [
        {
          "output_type": "stream",
          "name": "stdout",
          "text": [
            "Epoch 1/2\n",
            "1470/1470 [==============================] - 896s 610ms/step - loss: 0.1346 - accuracy: 0.9526 - val_loss: 0.1023 - val_accuracy: 0.9615\n",
            "Epoch 2/2\n",
            "1470/1470 [==============================] - 892s 607ms/step - loss: 0.1238 - accuracy: 0.9566 - val_loss: 0.0923 - val_accuracy: 0.9661\n"
          ]
        }
      ]
    },
    {
      "cell_type": "code",
      "source": [
        "n_categories = len(os.listdir('/kaggle/input/gender-classification-dataset/Validation'))# number of categories print(n_categories)"
      ],
      "metadata": {
        "id": "lyB_sOi20XZQ",
        "execution": {
          "iopub.status.busy": "2023-05-07T03:44:37.39592Z",
          "iopub.execute_input": "2023-05-07T03:44:37.396276Z",
          "iopub.status.idle": "2023-05-07T03:44:37.401186Z",
          "shell.execute_reply.started": "2023-05-07T03:44:37.396245Z",
          "shell.execute_reply": "2023-05-07T03:44:37.400144Z"
        },
        "trusted": true
      },
      "execution_count": 24,
      "outputs": []
    },
    {
      "cell_type": "code",
      "source": [
        "n_categories"
      ],
      "metadata": {
        "execution": {
          "iopub.status.busy": "2023-05-07T03:44:37.402955Z",
          "iopub.execute_input": "2023-05-07T03:44:37.403694Z",
          "iopub.status.idle": "2023-05-07T03:44:37.412721Z",
          "shell.execute_reply.started": "2023-05-07T03:44:37.403664Z",
          "shell.execute_reply": "2023-05-07T03:44:37.4119Z"
        },
        "trusted": true,
        "id": "c8N22bNzjHN_",
        "outputId": "1bc98c40-3664-4d6f-df6b-0eeac3877f57",
        "colab": {
          "base_uri": "https://localhost:8080/"
        }
      },
      "execution_count": 25,
      "outputs": [
        {
          "output_type": "execute_result",
          "data": {
            "text/plain": [
              "2"
            ]
          },
          "metadata": {},
          "execution_count": 25
        }
      ]
    },
    {
      "cell_type": "code",
      "source": [
        "results =pd.DataFrame(history.history)\n",
        "results.head()"
      ],
      "metadata": {
        "id": "yxtnEszVwiap",
        "outputId": "8fb5af5c-9fc3-42c0-e1f6-5c310a105caf",
        "execution": {
          "iopub.status.busy": "2023-05-07T03:44:37.414385Z",
          "iopub.execute_input": "2023-05-07T03:44:37.414882Z",
          "iopub.status.idle": "2023-05-07T03:44:37.432464Z",
          "shell.execute_reply.started": "2023-05-07T03:44:37.414851Z",
          "shell.execute_reply": "2023-05-07T03:44:37.431681Z"
        },
        "trusted": true,
        "colab": {
          "base_uri": "https://localhost:8080/",
          "height": 112
        }
      },
      "execution_count": 26,
      "outputs": [
        {
          "output_type": "execute_result",
          "data": {
            "text/plain": [
              "       loss  accuracy  val_loss  val_accuracy\n",
              "0  0.134604  0.952562  0.102325      0.961456\n",
              "1  0.123844  0.956583  0.092268      0.966092"
            ],
            "text/html": [
              "\n",
              "  <div id=\"df-e80c381a-fe8b-41d7-a4ea-f840a18ca22a\" class=\"colab-df-container\">\n",
              "    <div>\n",
              "<style scoped>\n",
              "    .dataframe tbody tr th:only-of-type {\n",
              "        vertical-align: middle;\n",
              "    }\n",
              "\n",
              "    .dataframe tbody tr th {\n",
              "        vertical-align: top;\n",
              "    }\n",
              "\n",
              "    .dataframe thead th {\n",
              "        text-align: right;\n",
              "    }\n",
              "</style>\n",
              "<table border=\"1\" class=\"dataframe\">\n",
              "  <thead>\n",
              "    <tr style=\"text-align: right;\">\n",
              "      <th></th>\n",
              "      <th>loss</th>\n",
              "      <th>accuracy</th>\n",
              "      <th>val_loss</th>\n",
              "      <th>val_accuracy</th>\n",
              "    </tr>\n",
              "  </thead>\n",
              "  <tbody>\n",
              "    <tr>\n",
              "      <th>0</th>\n",
              "      <td>0.134604</td>\n",
              "      <td>0.952562</td>\n",
              "      <td>0.102325</td>\n",
              "      <td>0.961456</td>\n",
              "    </tr>\n",
              "    <tr>\n",
              "      <th>1</th>\n",
              "      <td>0.123844</td>\n",
              "      <td>0.956583</td>\n",
              "      <td>0.092268</td>\n",
              "      <td>0.966092</td>\n",
              "    </tr>\n",
              "  </tbody>\n",
              "</table>\n",
              "</div>\n",
              "    <div class=\"colab-df-buttons\">\n",
              "\n",
              "  <div class=\"colab-df-container\">\n",
              "    <button class=\"colab-df-convert\" onclick=\"convertToInteractive('df-e80c381a-fe8b-41d7-a4ea-f840a18ca22a')\"\n",
              "            title=\"Convert this dataframe to an interactive table.\"\n",
              "            style=\"display:none;\">\n",
              "\n",
              "  <svg xmlns=\"http://www.w3.org/2000/svg\" height=\"24px\" viewBox=\"0 -960 960 960\">\n",
              "    <path d=\"M120-120v-720h720v720H120Zm60-500h600v-160H180v160Zm220 220h160v-160H400v160Zm0 220h160v-160H400v160ZM180-400h160v-160H180v160Zm440 0h160v-160H620v160ZM180-180h160v-160H180v160Zm440 0h160v-160H620v160Z\"/>\n",
              "  </svg>\n",
              "    </button>\n",
              "\n",
              "  <style>\n",
              "    .colab-df-container {\n",
              "      display:flex;\n",
              "      gap: 12px;\n",
              "    }\n",
              "\n",
              "    .colab-df-convert {\n",
              "      background-color: #E8F0FE;\n",
              "      border: none;\n",
              "      border-radius: 50%;\n",
              "      cursor: pointer;\n",
              "      display: none;\n",
              "      fill: #1967D2;\n",
              "      height: 32px;\n",
              "      padding: 0 0 0 0;\n",
              "      width: 32px;\n",
              "    }\n",
              "\n",
              "    .colab-df-convert:hover {\n",
              "      background-color: #E2EBFA;\n",
              "      box-shadow: 0px 1px 2px rgba(60, 64, 67, 0.3), 0px 1px 3px 1px rgba(60, 64, 67, 0.15);\n",
              "      fill: #174EA6;\n",
              "    }\n",
              "\n",
              "    .colab-df-buttons div {\n",
              "      margin-bottom: 4px;\n",
              "    }\n",
              "\n",
              "    [theme=dark] .colab-df-convert {\n",
              "      background-color: #3B4455;\n",
              "      fill: #D2E3FC;\n",
              "    }\n",
              "\n",
              "    [theme=dark] .colab-df-convert:hover {\n",
              "      background-color: #434B5C;\n",
              "      box-shadow: 0px 1px 3px 1px rgba(0, 0, 0, 0.15);\n",
              "      filter: drop-shadow(0px 1px 2px rgba(0, 0, 0, 0.3));\n",
              "      fill: #FFFFFF;\n",
              "    }\n",
              "  </style>\n",
              "\n",
              "    <script>\n",
              "      const buttonEl =\n",
              "        document.querySelector('#df-e80c381a-fe8b-41d7-a4ea-f840a18ca22a button.colab-df-convert');\n",
              "      buttonEl.style.display =\n",
              "        google.colab.kernel.accessAllowed ? 'block' : 'none';\n",
              "\n",
              "      async function convertToInteractive(key) {\n",
              "        const element = document.querySelector('#df-e80c381a-fe8b-41d7-a4ea-f840a18ca22a');\n",
              "        const dataTable =\n",
              "          await google.colab.kernel.invokeFunction('convertToInteractive',\n",
              "                                                    [key], {});\n",
              "        if (!dataTable) return;\n",
              "\n",
              "        const docLinkHtml = 'Like what you see? Visit the ' +\n",
              "          '<a target=\"_blank\" href=https://colab.research.google.com/notebooks/data_table.ipynb>data table notebook</a>'\n",
              "          + ' to learn more about interactive tables.';\n",
              "        element.innerHTML = '';\n",
              "        dataTable['output_type'] = 'display_data';\n",
              "        await google.colab.output.renderOutput(dataTable, element);\n",
              "        const docLink = document.createElement('div');\n",
              "        docLink.innerHTML = docLinkHtml;\n",
              "        element.appendChild(docLink);\n",
              "      }\n",
              "    </script>\n",
              "  </div>\n",
              "\n",
              "\n",
              "<div id=\"df-b62e5276-39b1-4d47-8d9d-289fc4113171\">\n",
              "  <button class=\"colab-df-quickchart\" onclick=\"quickchart('df-b62e5276-39b1-4d47-8d9d-289fc4113171')\"\n",
              "            title=\"Suggest charts\"\n",
              "            style=\"display:none;\">\n",
              "\n",
              "<svg xmlns=\"http://www.w3.org/2000/svg\" height=\"24px\"viewBox=\"0 0 24 24\"\n",
              "     width=\"24px\">\n",
              "    <g>\n",
              "        <path d=\"M19 3H5c-1.1 0-2 .9-2 2v14c0 1.1.9 2 2 2h14c1.1 0 2-.9 2-2V5c0-1.1-.9-2-2-2zM9 17H7v-7h2v7zm4 0h-2V7h2v10zm4 0h-2v-4h2v4z\"/>\n",
              "    </g>\n",
              "</svg>\n",
              "  </button>\n",
              "\n",
              "<style>\n",
              "  .colab-df-quickchart {\n",
              "      --bg-color: #E8F0FE;\n",
              "      --fill-color: #1967D2;\n",
              "      --hover-bg-color: #E2EBFA;\n",
              "      --hover-fill-color: #174EA6;\n",
              "      --disabled-fill-color: #AAA;\n",
              "      --disabled-bg-color: #DDD;\n",
              "  }\n",
              "\n",
              "  [theme=dark] .colab-df-quickchart {\n",
              "      --bg-color: #3B4455;\n",
              "      --fill-color: #D2E3FC;\n",
              "      --hover-bg-color: #434B5C;\n",
              "      --hover-fill-color: #FFFFFF;\n",
              "      --disabled-bg-color: #3B4455;\n",
              "      --disabled-fill-color: #666;\n",
              "  }\n",
              "\n",
              "  .colab-df-quickchart {\n",
              "    background-color: var(--bg-color);\n",
              "    border: none;\n",
              "    border-radius: 50%;\n",
              "    cursor: pointer;\n",
              "    display: none;\n",
              "    fill: var(--fill-color);\n",
              "    height: 32px;\n",
              "    padding: 0;\n",
              "    width: 32px;\n",
              "  }\n",
              "\n",
              "  .colab-df-quickchart:hover {\n",
              "    background-color: var(--hover-bg-color);\n",
              "    box-shadow: 0 1px 2px rgba(60, 64, 67, 0.3), 0 1px 3px 1px rgba(60, 64, 67, 0.15);\n",
              "    fill: var(--button-hover-fill-color);\n",
              "  }\n",
              "\n",
              "  .colab-df-quickchart-complete:disabled,\n",
              "  .colab-df-quickchart-complete:disabled:hover {\n",
              "    background-color: var(--disabled-bg-color);\n",
              "    fill: var(--disabled-fill-color);\n",
              "    box-shadow: none;\n",
              "  }\n",
              "\n",
              "  .colab-df-spinner {\n",
              "    border: 2px solid var(--fill-color);\n",
              "    border-color: transparent;\n",
              "    border-bottom-color: var(--fill-color);\n",
              "    animation:\n",
              "      spin 1s steps(1) infinite;\n",
              "  }\n",
              "\n",
              "  @keyframes spin {\n",
              "    0% {\n",
              "      border-color: transparent;\n",
              "      border-bottom-color: var(--fill-color);\n",
              "      border-left-color: var(--fill-color);\n",
              "    }\n",
              "    20% {\n",
              "      border-color: transparent;\n",
              "      border-left-color: var(--fill-color);\n",
              "      border-top-color: var(--fill-color);\n",
              "    }\n",
              "    30% {\n",
              "      border-color: transparent;\n",
              "      border-left-color: var(--fill-color);\n",
              "      border-top-color: var(--fill-color);\n",
              "      border-right-color: var(--fill-color);\n",
              "    }\n",
              "    40% {\n",
              "      border-color: transparent;\n",
              "      border-right-color: var(--fill-color);\n",
              "      border-top-color: var(--fill-color);\n",
              "    }\n",
              "    60% {\n",
              "      border-color: transparent;\n",
              "      border-right-color: var(--fill-color);\n",
              "    }\n",
              "    80% {\n",
              "      border-color: transparent;\n",
              "      border-right-color: var(--fill-color);\n",
              "      border-bottom-color: var(--fill-color);\n",
              "    }\n",
              "    90% {\n",
              "      border-color: transparent;\n",
              "      border-bottom-color: var(--fill-color);\n",
              "    }\n",
              "  }\n",
              "</style>\n",
              "\n",
              "  <script>\n",
              "    async function quickchart(key) {\n",
              "      const quickchartButtonEl =\n",
              "        document.querySelector('#' + key + ' button');\n",
              "      quickchartButtonEl.disabled = true;  // To prevent multiple clicks.\n",
              "      quickchartButtonEl.classList.add('colab-df-spinner');\n",
              "      try {\n",
              "        const charts = await google.colab.kernel.invokeFunction(\n",
              "            'suggestCharts', [key], {});\n",
              "      } catch (error) {\n",
              "        console.error('Error during call to suggestCharts:', error);\n",
              "      }\n",
              "      quickchartButtonEl.classList.remove('colab-df-spinner');\n",
              "      quickchartButtonEl.classList.add('colab-df-quickchart-complete');\n",
              "    }\n",
              "    (() => {\n",
              "      let quickchartButtonEl =\n",
              "        document.querySelector('#df-b62e5276-39b1-4d47-8d9d-289fc4113171 button');\n",
              "      quickchartButtonEl.style.display =\n",
              "        google.colab.kernel.accessAllowed ? 'block' : 'none';\n",
              "    })();\n",
              "  </script>\n",
              "</div>\n",
              "\n",
              "    </div>\n",
              "  </div>\n"
            ],
            "application/vnd.google.colaboratory.intrinsic+json": {
              "type": "dataframe",
              "variable_name": "results",
              "summary": "{\n  \"name\": \"results\",\n  \"rows\": 2,\n  \"fields\": [\n    {\n      \"column\": \"loss\",\n      \"properties\": {\n        \"dtype\": \"number\",\n        \"std\": 0.007608870660436913,\n        \"min\": 0.12384357303380966,\n        \"max\": 0.13460414111614227,\n        \"num_unique_values\": 2,\n        \"samples\": [\n          0.12384357303380966,\n          0.13460414111614227\n        ],\n        \"semantic_type\": \"\",\n        \"description\": \"\"\n      }\n    },\n    {\n      \"column\": \"accuracy\",\n      \"properties\": {\n        \"dtype\": \"number\",\n        \"std\": 0.002842931372605335,\n        \"min\": 0.9525622725486755,\n        \"max\": 0.95658278465271,\n        \"num_unique_values\": 2,\n        \"samples\": [\n          0.95658278465271,\n          0.9525622725486755\n        ],\n        \"semantic_type\": \"\",\n        \"description\": \"\"\n      }\n    },\n    {\n      \"column\": \"val_loss\",\n      \"properties\": {\n        \"dtype\": \"number\",\n        \"std\": 0.0071112375517127235,\n        \"min\": 0.09226790815591812,\n        \"max\": 0.1023247167468071,\n        \"num_unique_values\": 2,\n        \"samples\": [\n          0.09226790815591812,\n          0.1023247167468071\n        ],\n        \"semantic_type\": \"\",\n        \"description\": \"\"\n      }\n    },\n    {\n      \"column\": \"val_accuracy\",\n      \"properties\": {\n        \"dtype\": \"number\",\n        \"std\": 0.0032778447023892507,\n        \"min\": 0.9614559412002563,\n        \"max\": 0.966091513633728,\n        \"num_unique_values\": 2,\n        \"samples\": [\n          0.966091513633728,\n          0.9614559412002563\n        ],\n        \"semantic_type\": \"\",\n        \"description\": \"\"\n      }\n    }\n  ]\n}"
            }
          },
          "metadata": {},
          "execution_count": 26
        }
      ]
    },
    {
      "cell_type": "code",
      "source": [
        "plt.figure(figsize=(15,6))\n",
        "plt.plot(history.history['loss'])\n",
        "plt.plot(history.history['val_loss'])\n",
        "plt.title('Model Loss')\n",
        "plt.ylabel('loss')\n",
        "plt.xlabel('epochs')\n",
        "plt.legend(['Train','Val'], loc= 'upper left')\n",
        "plt.show()"
      ],
      "metadata": {
        "id": "T0TeDEsuwk6j",
        "outputId": "92042b14-a7a3-4779-b661-e3e6e1b525b4",
        "execution": {
          "iopub.status.busy": "2023-05-07T03:44:37.434745Z",
          "iopub.execute_input": "2023-05-07T03:44:37.435077Z",
          "iopub.status.idle": "2023-05-07T03:44:37.719335Z",
          "shell.execute_reply.started": "2023-05-07T03:44:37.435055Z",
          "shell.execute_reply": "2023-05-07T03:44:37.718475Z"
        },
        "trusted": true,
        "colab": {
          "base_uri": "https://localhost:8080/",
          "height": 564
        }
      },
      "execution_count": 27,
      "outputs": [
        {
          "output_type": "display_data",
          "data": {
            "text/plain": [
              "<Figure size 1500x600 with 1 Axes>"
            ],
            "image/png": "[encoded data removed]"
          },
          "metadata": {}
        }
      ]
    },
    {
      "cell_type": "code",
      "source": [
        "plt.figure(figsize=(15,5))\n",
        "plt.plot(history.history['accuracy'])\n",
        "plt.plot(history.history['val_accuracy'])\n",
        "plt.title('Model Accuracy')\n",
        "plt.ylabel('accuracy')\n",
        "plt.xlabel('epoch')\n",
        "plt.legend(['Train', 'Val'], loc='upper left')\n",
        "plt.show()"
      ],
      "metadata": {
        "id": "vDj38dz7wn5N",
        "outputId": "cd6b1bb8-be1c-4236-b195-a7456ad85186",
        "execution": {
          "iopub.status.busy": "2023-05-07T03:44:37.720694Z",
          "iopub.execute_input": "2023-05-07T03:44:37.721022Z",
          "iopub.status.idle": "2023-05-07T03:44:37.99956Z",
          "shell.execute_reply.started": "2023-05-07T03:44:37.720992Z",
          "shell.execute_reply": "2023-05-07T03:44:37.998694Z"
        },
        "trusted": true,
        "colab": {
          "base_uri": "https://localhost:8080/",
          "height": 487
        }
      },
      "execution_count": 28,
      "outputs": [
        {
          "output_type": "display_data",
          "data": {
            "text/plain": [
              "<Figure size 1500x500 with 1 Axes>"
            ],
            "image/png": "[encoded data removed]"
          },
          "metadata": {}
        }
      ]
    },
    {
      "cell_type": "code",
      "source": [
        "y_test_1 = test_generator.classes\n",
        "y_pred_1 =model.predict(test_generator)\n",
        "y_pred_1 = np.argmax(y_pred_1,axis=1)"
      ],
      "metadata": {
        "id": "zfkcoO1twqlH",
        "outputId": "28ccafab-7448-4703-a4fa-1434403731fb",
        "execution": {
          "iopub.status.busy": "2023-05-07T03:44:38.000844Z",
          "iopub.execute_input": "2023-05-07T03:44:38.001577Z",
          "iopub.status.idle": "2023-05-07T03:45:32.841018Z",
          "shell.execute_reply.started": "2023-05-07T03:44:38.001546Z",
          "shell.execute_reply": "2023-05-07T03:45:32.839836Z"
        },
        "trusted": true,
        "colab": {
          "base_uri": "https://localhost:8080/"
        }
      },
      "execution_count": 29,
      "outputs": [
        {
          "output_type": "stream",
          "name": "stdout",
          "text": [
            "365/365 [==============================] - 55s 150ms/step\n"
          ]
        }
      ]
    },
    {
      "cell_type": "code",
      "source": [
        "results =model.evaluate(test_generator)"
      ],
      "metadata": {
        "id": "I1fzJjyLwtci",
        "outputId": "19dcf33e-563e-418b-9f2f-3009f979bda5",
        "execution": {
          "iopub.status.busy": "2023-05-07T03:45:32.845663Z",
          "iopub.execute_input": "2023-05-07T03:45:32.846056Z",
          "iopub.status.idle": "2023-05-07T03:46:27.581812Z",
          "shell.execute_reply.started": "2023-05-07T03:45:32.846023Z",
          "shell.execute_reply": "2023-05-07T03:46:27.580868Z"
        },
        "trusted": true,
        "colab": {
          "base_uri": "https://localhost:8080/"
        }
      },
      "execution_count": 30,
      "outputs": [
        {
          "output_type": "stream",
          "name": "stdout",
          "text": [
            "365/365 [==============================] - 55s 151ms/step - loss: 0.0923 - accuracy: 0.9661\n"
          ]
        }
      ]
    },
    {
      "cell_type": "code",
      "source": [
        "from sklearn.metrics import classification_report\n",
        "\n",
        "print(classification_report(y_test_1, y_pred_1))"
      ],
      "metadata": {
        "execution": {
          "iopub.status.busy": "2023-05-07T03:46:27.583526Z",
          "iopub.execute_input": "2023-05-07T03:46:27.583919Z",
          "iopub.status.idle": "2023-05-07T03:46:27.759422Z",
          "shell.execute_reply.started": "2023-05-07T03:46:27.583884Z",
          "shell.execute_reply": "2023-05-07T03:46:27.758398Z"
        },
        "trusted": true,
        "id": "nK0BW5uxjHOA",
        "outputId": "0b88ff28-a967-403d-ab64-041fea9c1a3c",
        "colab": {
          "base_uri": "https://localhost:8080/"
        }
      },
      "execution_count": 31,
      "outputs": [
        {
          "output_type": "stream",
          "name": "stdout",
          "text": [
            "              precision    recall  f1-score   support\n",
            "\n",
            "           0       0.98      0.96      0.97      5841\n",
            "           1       0.96      0.98      0.97      5808\n",
            "\n",
            "    accuracy                           0.97     11649\n",
            "   macro avg       0.97      0.97      0.97     11649\n",
            "weighted avg       0.97      0.97      0.97     11649\n",
            "\n"
          ]
        }
      ]
    }
  ]
}